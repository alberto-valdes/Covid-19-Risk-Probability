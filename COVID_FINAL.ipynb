{
 "cells": [
  {
   "cell_type": "code",
   "execution_count": null,
   "metadata": {
    "id": "6IQniIGfr31n"
   },
   "outputs": [],
   "source": [
    "# loading the required libraries\n",
    "import pandas as pd\n",
    "import numpy as np\n",
    "from sklearn.model_selection import train_test_split\n",
    "from sklearn.preprocessing import StandardScaler\n",
    "from sklearn.preprocessing import OneHotEncoder\n",
    "from sklearn.compose import ColumnTransformer\n",
    "from sklearn.svm import SVC\n",
    "from sklearn.svm import LinearSVC\n",
    "from sklearn.neural_network import MLPClassifier\n",
    "from sklearn.ensemble import RandomForestClassifier\n",
    "from sklearn.metrics import confusion_matrix\n",
    "from sklearn.metrics import classification_report\n",
    "from sklearn.metrics import accuracy_score\n",
    "from sklearn.model_selection import GridSearchCV\n",
    "from sklearn.model_selection import RandomizedSearchCV\n",
    "from sklearn.decomposition import PCA\n",
    "import matplotlib.pyplot as plt\n",
    "from scipy.stats import norm\n",
    "from scipy.stats import t\n",
    "from scipy.stats import ttest_ind\n",
    "from itertools import combinations\n",
    "\n",
    "from keras import models\n",
    "from keras import layers\n",
    "from keras.wrappers.scikit_learn import KerasClassifier"
   ]
  },
  {
   "cell_type": "code",
   "execution_count": null,
   "metadata": {
    "colab": {
     "base_uri": "https://localhost:8080/"
    },
    "id": "GnPyYndHsIU0",
    "outputId": "62b1a24d-76fa-40cb-c285-47b1b25cbefc"
   },
   "outputs": [
    {
     "name": "stdout",
     "output_type": "stream",
     "text": [
      "Mounted at /content/gdrive\n"
     ]
    }
   ],
   "source": [
    "from google.colab import drive  # to mount Drive to Colab notebook\n",
    "# Connect Google Drive to Colab\n",
    "drive.mount('/content/gdrive')"
   ]
  },
  {
   "cell_type": "code",
   "execution_count": null,
   "metadata": {
    "id": "pMKTgYWXgX92"
   },
   "outputs": [],
   "source": [
    "dataset = pd.read_csv(\"./gdrive/My Drive/Colab Notebooks/201114COVID19MEXICO.csv\", encoding= 'iso-8859-1')"
   ]
  },
  {
   "cell_type": "code",
   "execution_count": null,
   "metadata": {
    "id": "JXUXvXVzr31x"
   },
   "outputs": [],
   "source": [
    "# Converting date columns to datetime format\n",
    "dataset['FECHA_INGRESO'] = pd.to_datetime(dataset['FECHA_INGRESO'], errors='coerce')\n",
    "dataset['FECHA_SINTOMAS'] = pd.to_datetime(dataset['FECHA_SINTOMAS'], errors='coerce')\n",
    "dataset['FECHA_ACTUALIZACION'] = pd.to_datetime(dataset['FECHA_ACTUALIZACION'], errors='coerce')"
   ]
  },
  {
   "cell_type": "code",
   "execution_count": null,
   "metadata": {
    "id": "j0-2pxQ3r310"
   },
   "outputs": [],
   "source": [
    "# Adding handcrafted features\n",
    "dataset['SINTOMAS_INGRESO'] = (dataset['FECHA_INGRESO'] - dataset['FECHA_SINTOMAS']).dt.days"
   ]
  },
  {
   "cell_type": "code",
   "execution_count": null,
   "metadata": {
    "colab": {
     "base_uri": "https://localhost:8080/",
     "height": 265
    },
    "id": "W8FVqNyeffLE",
    "outputId": "fbc4015d-3062-4883-a873-929638d0b296"
   },
   "outputs": [
    {
     "data": {
      "image/png": "[encoded data removed]",
      "text/plain": [
       "<Figure size 432x288 with 1 Axes>"
      ]
     },
     "metadata": {
      "needs_background": "light",
      "tags": []
     },
     "output_type": "display_data"
    }
   ],
   "source": [
    "# Calculating some statistics for the number of dates between ingreso and defuncion\n",
    "fecha_def = pd.to_datetime(dataset['FECHA_DEF'], errors='coerce')\n",
    "ingreso_defuncion = (fecha_def - dataset['FECHA_INGRESO']).dt.days\n",
    "ingreso_defuncion = ingreso_defuncion[pd.notna(ingreso_defuncion)]\n",
    "\n",
    "# Parameters for a half-normal distribution\n",
    "sintomas_defuncion_mean = 0\n",
    "sintomas_defuncion_std= np.sqrt((1 / ingreso_defuncion.shape[0]) * np.sum(ingreso_defuncion ** 2))\n",
    "\n",
    "# Plot the distribution, as it can be seen it follows a half-normal distribution\n",
    "plt.hist(ingreso_defuncion, bins=50)\n",
    "plt.show()"
   ]
  },
  {
   "cell_type": "code",
   "execution_count": null,
   "metadata": {
    "colab": {
     "base_uri": "https://localhost:8080/"
    },
    "id": "3CHRAybVfgN3",
    "outputId": "2c65ae23-b8a2-4e9c-9eab-eee7ab4a8928"
   },
   "outputs": [
    {
     "name": "stdout",
     "output_type": "stream",
     "text": [
      "Number of days removed from database is:  23\n",
      "Our confidence interval would be:  95.45 %\n"
     ]
    }
   ],
   "source": [
    "# Defining a threshold for data considering 2 standard deviations\n",
    "# The cummulative distribution function of a half normal distribution is given by\n",
    "cdf_half_norm = 2 * norm.cdf( (sintomas_defuncion_std * 2) / sintomas_defuncion_std) - 1\n",
    "data_threshold = int(sintomas_defuncion_mean + 2 * sintomas_defuncion_std)\n",
    "print('Number of days removed from database is: ', data_threshold)\n",
    "print('Our confidence interval would be: ', np.round(cdf_half_norm * 100, 2), '%')"
   ]
  },
  {
   "cell_type": "code",
   "execution_count": null,
   "metadata": {
    "id": "g25-bpLfr314"
   },
   "outputs": [],
   "source": [
    "# Removing data that we do not know if the outcome was a death or recovery based on a confidence interval.\n",
    "X = dataset[np.logical_not(np.logical_and(dataset['FECHA_INGRESO'] > (dataset['FECHA_ACTUALIZACION'] - pd.to_timedelta(data_threshold, unit = 'd')),(dataset['FECHA_DEF'] == '9999-99-99')))]\n",
    "# Filtering out negative tests, just positive tests are left on the dataset\n",
    "X = X[np.logical_or(np.logical_or(X['CLASIFICACION_FINAL'] == 1, X['CLASIFICACION_FINAL'] == 2), X['CLASIFICACION_FINAL'] == 3)]\n",
    "# Creating labels based on COVID results\n",
    "y = 1 * (X['FECHA_DEF'] != '9999-99-99')"
   ]
  },
  {
   "cell_type": "code",
   "execution_count": null,
   "metadata": {
    "id": "mgA7ZJ-mr319"
   },
   "outputs": [],
   "source": [
    "# Deleting not used features\n",
    "columns_to_drop = ['FECHA_ACTUALIZACION', 'ID_REGISTRO', 'ENTIDAD_NAC', 'MUNICIPIO_RES', 'FECHA_INGRESO', 'FECHA_SINTOMAS', 'FECHA_DEF', 'TOMA_MUESTRA', 'NACIONALIDAD', 'MIGRANTE', 'PAIS_NACIONALIDAD', 'PAIS_ORIGEN', 'RESULTADO_LAB', 'CLASIFICACION_FINAL']\n",
    "X = X.drop(columns = columns_to_drop)"
   ]
  },
  {
   "cell_type": "code",
   "execution_count": null,
   "metadata": {
    "colab": {
     "base_uri": "https://localhost:8080/",
     "height": 439
    },
    "id": "zVVv7TlfYHEd",
    "outputId": "155bbeff-444c-413d-c5ff-704bcb40964a"
   },
   "outputs": [
    {
     "data": {
      "text/html": [
       "<div>\n",
       "<style scoped>\n",
       "    .dataframe tbody tr th:only-of-type {\n",
       "        vertical-align: middle;\n",
       "    }\n",
       "\n",
       "    .dataframe tbody tr th {\n",
       "        vertical-align: top;\n",
       "    }\n",
       "\n",
       "    .dataframe thead th {\n",
       "        text-align: right;\n",
       "    }\n",
       "</style>\n",
       "<table border=\"1\" class=\"dataframe\">\n",
       "  <thead>\n",
       "    <tr style=\"text-align: right;\">\n",
       "      <th></th>\n",
       "      <th>ORIGEN</th>\n",
       "      <th>SECTOR</th>\n",
       "      <th>ENTIDAD_UM</th>\n",
       "      <th>SEXO</th>\n",
       "      <th>ENTIDAD_RES</th>\n",
       "      <th>TIPO_PACIENTE</th>\n",
       "      <th>INTUBADO</th>\n",
       "      <th>NEUMONIA</th>\n",
       "      <th>EDAD</th>\n",
       "      <th>EMBARAZO</th>\n",
       "      <th>HABLA_LENGUA_INDIG</th>\n",
       "      <th>INDIGENA</th>\n",
       "      <th>DIABETES</th>\n",
       "      <th>EPOC</th>\n",
       "      <th>ASMA</th>\n",
       "      <th>INMUSUPR</th>\n",
       "      <th>HIPERTENSION</th>\n",
       "      <th>OTRA_COM</th>\n",
       "      <th>CARDIOVASCULAR</th>\n",
       "      <th>OBESIDAD</th>\n",
       "      <th>RENAL_CRONICA</th>\n",
       "      <th>TABAQUISMO</th>\n",
       "      <th>OTRO_CASO</th>\n",
       "      <th>UCI</th>\n",
       "      <th>SINTOMAS_INGRESO</th>\n",
       "    </tr>\n",
       "  </thead>\n",
       "  <tbody>\n",
       "    <tr>\n",
       "      <th>0</th>\n",
       "      <td>2</td>\n",
       "      <td>9</td>\n",
       "      <td>21</td>\n",
       "      <td>2</td>\n",
       "      <td>21</td>\n",
       "      <td>1</td>\n",
       "      <td>97</td>\n",
       "      <td>2</td>\n",
       "      <td>75</td>\n",
       "      <td>97</td>\n",
       "      <td>2</td>\n",
       "      <td>2</td>\n",
       "      <td>1</td>\n",
       "      <td>2</td>\n",
       "      <td>2</td>\n",
       "      <td>2</td>\n",
       "      <td>2</td>\n",
       "      <td>2</td>\n",
       "      <td>1</td>\n",
       "      <td>2</td>\n",
       "      <td>2</td>\n",
       "      <td>2</td>\n",
       "      <td>2</td>\n",
       "      <td>97</td>\n",
       "      <td>6</td>\n",
       "    </tr>\n",
       "    <tr>\n",
       "      <th>1</th>\n",
       "      <td>1</td>\n",
       "      <td>4</td>\n",
       "      <td>5</td>\n",
       "      <td>1</td>\n",
       "      <td>5</td>\n",
       "      <td>1</td>\n",
       "      <td>97</td>\n",
       "      <td>2</td>\n",
       "      <td>47</td>\n",
       "      <td>2</td>\n",
       "      <td>2</td>\n",
       "      <td>2</td>\n",
       "      <td>2</td>\n",
       "      <td>2</td>\n",
       "      <td>2</td>\n",
       "      <td>2</td>\n",
       "      <td>2</td>\n",
       "      <td>2</td>\n",
       "      <td>2</td>\n",
       "      <td>2</td>\n",
       "      <td>2</td>\n",
       "      <td>2</td>\n",
       "      <td>1</td>\n",
       "      <td>97</td>\n",
       "      <td>6</td>\n",
       "    </tr>\n",
       "    <tr>\n",
       "      <th>2</th>\n",
       "      <td>2</td>\n",
       "      <td>4</td>\n",
       "      <td>9</td>\n",
       "      <td>2</td>\n",
       "      <td>9</td>\n",
       "      <td>2</td>\n",
       "      <td>2</td>\n",
       "      <td>1</td>\n",
       "      <td>58</td>\n",
       "      <td>97</td>\n",
       "      <td>2</td>\n",
       "      <td>2</td>\n",
       "      <td>1</td>\n",
       "      <td>1</td>\n",
       "      <td>2</td>\n",
       "      <td>2</td>\n",
       "      <td>1</td>\n",
       "      <td>2</td>\n",
       "      <td>2</td>\n",
       "      <td>2</td>\n",
       "      <td>1</td>\n",
       "      <td>2</td>\n",
       "      <td>99</td>\n",
       "      <td>1</td>\n",
       "      <td>0</td>\n",
       "    </tr>\n",
       "    <tr>\n",
       "      <th>3</th>\n",
       "      <td>1</td>\n",
       "      <td>4</td>\n",
       "      <td>15</td>\n",
       "      <td>2</td>\n",
       "      <td>15</td>\n",
       "      <td>2</td>\n",
       "      <td>2</td>\n",
       "      <td>1</td>\n",
       "      <td>49</td>\n",
       "      <td>97</td>\n",
       "      <td>1</td>\n",
       "      <td>2</td>\n",
       "      <td>2</td>\n",
       "      <td>2</td>\n",
       "      <td>2</td>\n",
       "      <td>2</td>\n",
       "      <td>2</td>\n",
       "      <td>2</td>\n",
       "      <td>2</td>\n",
       "      <td>2</td>\n",
       "      <td>2</td>\n",
       "      <td>2</td>\n",
       "      <td>99</td>\n",
       "      <td>2</td>\n",
       "      <td>0</td>\n",
       "    </tr>\n",
       "    <tr>\n",
       "      <th>4</th>\n",
       "      <td>1</td>\n",
       "      <td>12</td>\n",
       "      <td>15</td>\n",
       "      <td>1</td>\n",
       "      <td>15</td>\n",
       "      <td>1</td>\n",
       "      <td>97</td>\n",
       "      <td>2</td>\n",
       "      <td>27</td>\n",
       "      <td>2</td>\n",
       "      <td>2</td>\n",
       "      <td>2</td>\n",
       "      <td>2</td>\n",
       "      <td>2</td>\n",
       "      <td>2</td>\n",
       "      <td>2</td>\n",
       "      <td>2</td>\n",
       "      <td>2</td>\n",
       "      <td>2</td>\n",
       "      <td>2</td>\n",
       "      <td>2</td>\n",
       "      <td>2</td>\n",
       "      <td>1</td>\n",
       "      <td>97</td>\n",
       "      <td>4</td>\n",
       "    </tr>\n",
       "    <tr>\n",
       "      <th>...</th>\n",
       "      <td>...</td>\n",
       "      <td>...</td>\n",
       "      <td>...</td>\n",
       "      <td>...</td>\n",
       "      <td>...</td>\n",
       "      <td>...</td>\n",
       "      <td>...</td>\n",
       "      <td>...</td>\n",
       "      <td>...</td>\n",
       "      <td>...</td>\n",
       "      <td>...</td>\n",
       "      <td>...</td>\n",
       "      <td>...</td>\n",
       "      <td>...</td>\n",
       "      <td>...</td>\n",
       "      <td>...</td>\n",
       "      <td>...</td>\n",
       "      <td>...</td>\n",
       "      <td>...</td>\n",
       "      <td>...</td>\n",
       "      <td>...</td>\n",
       "      <td>...</td>\n",
       "      <td>...</td>\n",
       "      <td>...</td>\n",
       "      <td>...</td>\n",
       "    </tr>\n",
       "    <tr>\n",
       "      <th>2604459</th>\n",
       "      <td>2</td>\n",
       "      <td>10</td>\n",
       "      <td>9</td>\n",
       "      <td>2</td>\n",
       "      <td>15</td>\n",
       "      <td>2</td>\n",
       "      <td>2</td>\n",
       "      <td>2</td>\n",
       "      <td>56</td>\n",
       "      <td>97</td>\n",
       "      <td>2</td>\n",
       "      <td>2</td>\n",
       "      <td>2</td>\n",
       "      <td>2</td>\n",
       "      <td>2</td>\n",
       "      <td>2</td>\n",
       "      <td>2</td>\n",
       "      <td>2</td>\n",
       "      <td>2</td>\n",
       "      <td>2</td>\n",
       "      <td>2</td>\n",
       "      <td>2</td>\n",
       "      <td>2</td>\n",
       "      <td>2</td>\n",
       "      <td>2</td>\n",
       "    </tr>\n",
       "    <tr>\n",
       "      <th>2604469</th>\n",
       "      <td>1</td>\n",
       "      <td>6</td>\n",
       "      <td>9</td>\n",
       "      <td>2</td>\n",
       "      <td>15</td>\n",
       "      <td>2</td>\n",
       "      <td>1</td>\n",
       "      <td>1</td>\n",
       "      <td>65</td>\n",
       "      <td>97</td>\n",
       "      <td>2</td>\n",
       "      <td>2</td>\n",
       "      <td>98</td>\n",
       "      <td>98</td>\n",
       "      <td>98</td>\n",
       "      <td>98</td>\n",
       "      <td>98</td>\n",
       "      <td>98</td>\n",
       "      <td>98</td>\n",
       "      <td>98</td>\n",
       "      <td>98</td>\n",
       "      <td>98</td>\n",
       "      <td>2</td>\n",
       "      <td>2</td>\n",
       "      <td>0</td>\n",
       "    </tr>\n",
       "    <tr>\n",
       "      <th>2604517</th>\n",
       "      <td>1</td>\n",
       "      <td>12</td>\n",
       "      <td>26</td>\n",
       "      <td>2</td>\n",
       "      <td>26</td>\n",
       "      <td>1</td>\n",
       "      <td>97</td>\n",
       "      <td>2</td>\n",
       "      <td>29</td>\n",
       "      <td>97</td>\n",
       "      <td>2</td>\n",
       "      <td>2</td>\n",
       "      <td>2</td>\n",
       "      <td>2</td>\n",
       "      <td>2</td>\n",
       "      <td>2</td>\n",
       "      <td>2</td>\n",
       "      <td>2</td>\n",
       "      <td>2</td>\n",
       "      <td>2</td>\n",
       "      <td>2</td>\n",
       "      <td>2</td>\n",
       "      <td>1</td>\n",
       "      <td>97</td>\n",
       "      <td>4</td>\n",
       "    </tr>\n",
       "    <tr>\n",
       "      <th>2604538</th>\n",
       "      <td>1</td>\n",
       "      <td>6</td>\n",
       "      <td>9</td>\n",
       "      <td>1</td>\n",
       "      <td>15</td>\n",
       "      <td>2</td>\n",
       "      <td>1</td>\n",
       "      <td>1</td>\n",
       "      <td>62</td>\n",
       "      <td>2</td>\n",
       "      <td>2</td>\n",
       "      <td>2</td>\n",
       "      <td>2</td>\n",
       "      <td>2</td>\n",
       "      <td>2</td>\n",
       "      <td>2</td>\n",
       "      <td>1</td>\n",
       "      <td>2</td>\n",
       "      <td>2</td>\n",
       "      <td>2</td>\n",
       "      <td>2</td>\n",
       "      <td>2</td>\n",
       "      <td>2</td>\n",
       "      <td>2</td>\n",
       "      <td>7</td>\n",
       "    </tr>\n",
       "    <tr>\n",
       "      <th>2604656</th>\n",
       "      <td>2</td>\n",
       "      <td>10</td>\n",
       "      <td>9</td>\n",
       "      <td>1</td>\n",
       "      <td>15</td>\n",
       "      <td>2</td>\n",
       "      <td>2</td>\n",
       "      <td>2</td>\n",
       "      <td>79</td>\n",
       "      <td>2</td>\n",
       "      <td>2</td>\n",
       "      <td>2</td>\n",
       "      <td>2</td>\n",
       "      <td>2</td>\n",
       "      <td>2</td>\n",
       "      <td>2</td>\n",
       "      <td>2</td>\n",
       "      <td>2</td>\n",
       "      <td>2</td>\n",
       "      <td>2</td>\n",
       "      <td>2</td>\n",
       "      <td>2</td>\n",
       "      <td>2</td>\n",
       "      <td>2</td>\n",
       "      <td>2</td>\n",
       "    </tr>\n",
       "  </tbody>\n",
       "</table>\n",
       "<p>914391 rows × 25 columns</p>\n",
       "</div>"
      ],
      "text/plain": [
       "         ORIGEN  SECTOR  ENTIDAD_UM  ...  OTRO_CASO  UCI  SINTOMAS_INGRESO\n",
       "0             2       9          21  ...          2   97                 6\n",
       "1             1       4           5  ...          1   97                 6\n",
       "2             2       4           9  ...         99    1                 0\n",
       "3             1       4          15  ...         99    2                 0\n",
       "4             1      12          15  ...          1   97                 4\n",
       "...         ...     ...         ...  ...        ...  ...               ...\n",
       "2604459       2      10           9  ...          2    2                 2\n",
       "2604469       1       6           9  ...          2    2                 0\n",
       "2604517       1      12          26  ...          1   97                 4\n",
       "2604538       1       6           9  ...          2    2                 7\n",
       "2604656       2      10           9  ...          2    2                 2\n",
       "\n",
       "[914391 rows x 25 columns]"
      ]
     },
     "execution_count": 10,
     "metadata": {
      "tags": []
     },
     "output_type": "execute_result"
    }
   ],
   "source": [
    "X"
   ]
  },
  {
   "cell_type": "code",
   "execution_count": null,
   "metadata": {
    "id": "OMigAlRh-HRq"
   },
   "outputs": [],
   "source": [
    "# Balancing classes\n",
    "total_deaths = len(y[y == 1])\n",
    "recovery_indices = y[y == 0].index\n",
    "death_indices = np.array(y[y == 1].index)\n",
    "random_indices = np.random.choice(recovery_indices, total_deaths, replace=False)\n",
    "final_indices = np.concatenate([random_indices, death_indices])\n",
    "\n",
    "# Selecting the dataset as per the final_indices\n",
    "X = X.loc[final_indices]\n",
    "y = y.loc[final_indices]"
   ]
  },
  {
   "cell_type": "code",
   "execution_count": null,
   "metadata": {
    "id": "hbPpZVKYr32A"
   },
   "outputs": [],
   "source": [
    "# Splitting dataset in train and test datasets with a proportion of 70/30\n",
    "X_train, X_test, y_train, y_test = train_test_split(X, y, test_size = 0.3, stratify = y, random_state = 42)"
   ]
  },
  {
   "cell_type": "code",
   "execution_count": null,
   "metadata": {
    "id": "zY0AjauUr32E"
   },
   "outputs": [],
   "source": [
    "# Defining wich columns to transform to each transformer\n",
    "for_standardscaler = ['EDAD', 'SINTOMAS_INGRESO']\n",
    "for_OneHotEncoder = ['ORIGEN', 'SECTOR', 'ENTIDAD_UM', 'SEXO', 'ENTIDAD_RES', 'TIPO_PACIENTE',\n",
    "                     'INTUBADO', 'NEUMONIA', 'EMBARAZO', 'HABLA_LENGUA_INDIG', 'INDIGENA', 'DIABETES','EPOC', 'ASMA', 'INMUSUPR',\n",
    "                     'HIPERTENSION', 'OTRA_COM', 'CARDIOVASCULAR', 'OBESIDAD', 'RENAL_CRONICA',\n",
    "                     'TABAQUISMO', 'OTRO_CASO', 'UCI']"
   ]
  },
  {
   "cell_type": "code",
   "execution_count": null,
   "metadata": {
    "id": "a61n5nmAr32H"
   },
   "outputs": [],
   "source": [
    "# Categories values per column\n",
    "ORIGEN = np.append(np.arange(1, 3), 99)\n",
    "SECTOR = np.append(np.arange(1, 14), 99)\n",
    "ENTIDAD_UM = np.append(np.arange(1, 37), (97, 98, 99))\n",
    "SEXO = np.append(np.arange(1, 3), 99)\n",
    "ENTIDAD_RES = np.append(np.arange(1, 37), (97, 98, 99))\n",
    "TIPO_PACIENTE = np.append(np.arange(1, 3), 99)\n",
    "INTUBADO = np.append(np.arange(1, 3), (97, 98, 99))\n",
    "NEUMONIA = np.append(np.arange(1, 3), (97, 98, 99))\n",
    "EMBARAZO = np.append(np.arange(1, 3), (97, 98, 99))\n",
    "HABLA_LENGUA_INDIG = np.append(np.arange(1, 3), (97, 98, 99))\n",
    "INDIGENA = np.append(np.arange(1, 3), (97, 98, 99))\n",
    "DIABETES = np.append(np.arange(1, 3), (97, 98, 99))\n",
    "EPOC = np.append(np.arange(1, 3), (97, 98, 99))\n",
    "ASMA = np.append(np.arange(1, 3), (97, 98, 99))\n",
    "INMUSUPR = np.append(np.arange(1, 3), (97, 98, 99))\n",
    "HIPERTENSION = np.append(np.arange(1, 3), (97, 98, 99))\n",
    "OTRA_COM = np.append(np.arange(1, 3), (97, 98, 99))\n",
    "CARDIOVASCULAR = np.append(np.arange(1, 3), (97, 98, 99))\n",
    "OBESIDAD = np.append(np.arange(1, 3), (97, 98, 99))\n",
    "RENAL_CRONICA = np.append(np.arange(1, 3), (97, 98, 99))\n",
    "TABAQUISMO = np.append(np.arange(1, 3), (97, 98, 99))\n",
    "OTRO_CASO = np.append(np.arange(1, 3), (97, 98, 99))\n",
    "UCI = np.append(np.arange(1, 3), (97, 98, 99))"
   ]
  },
  {
   "cell_type": "code",
   "execution_count": null,
   "metadata": {
    "id": "IPgH-Y3mr32L"
   },
   "outputs": [],
   "source": [
    "# Putting all possible categories into a single list\n",
    "categories_list = [eval(x) for x in for_OneHotEncoder]"
   ]
  },
  {
   "cell_type": "code",
   "execution_count": null,
   "metadata": {
    "id": "Iu5zVlCJr32O"
   },
   "outputs": [],
   "source": [
    "# Transformer\n",
    "transformer = ColumnTransformer(transformers=[(\"scaler\", StandardScaler(), for_standardscaler),\n",
    "                                             ('onehotencoder', OneHotEncoder(categories = categories_list, sparse=False), for_OneHotEncoder)])"
   ]
  },
  {
   "cell_type": "code",
   "execution_count": null,
   "metadata": {
    "id": "EVb0DgcPv9Jy"
   },
   "outputs": [],
   "source": [
    "# Transformer2\n",
    "transformer2 = ColumnTransformer(transformers=[('onehotencoder', OneHotEncoder(categories = categories_list, sparse=False), for_OneHotEncoder)], remainder='passthrough')"
   ]
  },
  {
   "cell_type": "code",
   "execution_count": null,
   "metadata": {
    "id": "_6e8dlmXr32R"
   },
   "outputs": [],
   "source": [
    "# Transforming the data, StandardScaler and OneHotCoder for training and test datasets\n",
    "transformer.fit(X_train)\n",
    "X_train_transformed = transformer.transform(X_train)\n",
    "X_test_transformed = transformer.transform(X_test)"
   ]
  },
  {
   "cell_type": "code",
   "execution_count": null,
   "metadata": {
    "id": "lzxyRGaMv3v5"
   },
   "outputs": [],
   "source": [
    "# Transforming the data, StandardScaler and OneHotCoder for training and test datasets\n",
    "transformer2.fit(X_train)\n",
    "X_train_transformed2 = transformer2.transform(X_train)\n",
    "X_test_transformed2 = transformer2.transform(X_test)"
   ]
  },
  {
   "cell_type": "markdown",
   "metadata": {
    "id": "NtylGh6olRu_"
   },
   "source": [
    "# **Decision Tree**"
   ]
  },
  {
   "cell_type": "code",
   "execution_count": null,
   "metadata": {
    "id": "ygIQ4eyNku_k"
   },
   "outputs": [],
   "source": [
    "import graphviz\n",
    "import numpy as np\n",
    "import pandas as pd\n",
    "from sklearn import datasets\n",
    "from sklearn import tree\n",
    "from sklearn.metrics import classification_report\n",
    "from sklearn.model_selection import train_test_split\n",
    "from sklearn.metrics import confusion_matrix\n",
    "import seaborn as sns\n",
    "import matplotlib.pyplot as plt\n",
    "import os"
   ]
  },
  {
   "cell_type": "code",
   "execution_count": null,
   "metadata": {
    "id": "eaVyNukUy4Ur"
   },
   "outputs": [],
   "source": [
    "# Getting feature names after transformation\n",
    "feature_name_list = ['EDAD','SINTOMAS_INGRESO']\n",
    "\n",
    "for feature in range(len(for_OneHotEncoder)):\n",
    "  for subfeature in range(len(eval(for_OneHotEncoder[feature]))):\n",
    "    feature_name_list.append(for_OneHotEncoder[feature] + '_' + str(categories_list[feature][subfeature]))"
   ]
  },
  {
   "cell_type": "code",
   "execution_count": null,
   "metadata": {
    "id": "mAjuIw3m07DR"
   },
   "outputs": [],
   "source": [
    "feature_name_list = [ 'EDAD',\n",
    " 'SINTOMAS_INGRESO',\n",
    " 'ORIGEN_1',\n",
    " 'ORIGEN_2',\n",
    " 'ORIGEN_99',\n",
    " 'SECTOR_1',\n",
    " 'SECTOR_2',\n",
    " 'SECTOR_3',\n",
    " 'SECTOR_4',\n",
    " 'SECTOR_5',\n",
    " 'SECTOR_6',\n",
    " 'SECTOR_7',\n",
    " 'SECTOR_8',\n",
    " 'SECTOR_9',\n",
    " 'SECTOR_10',\n",
    " 'SECTOR_11',\n",
    " 'SECTOR_12',\n",
    " 'SECTOR_13',\n",
    " 'SECTOR_99',\n",
    " 'ENTIDAD_UM_1',\n",
    " 'ENTIDAD_UM_2',\n",
    " 'ENTIDAD_UM_3',\n",
    " 'ENTIDAD_UM_4',\n",
    " 'ENTIDAD_UM_5',\n",
    " 'ENTIDAD_UM_6',\n",
    " 'ENTIDAD_UM_7',\n",
    " 'ENTIDAD_UM_8',\n",
    " 'ENTIDAD_UM_9',\n",
    " 'ENTIDAD_UM_10',\n",
    " 'ENTIDAD_UM_11',\n",
    " 'ENTIDAD_UM_12',\n",
    " 'ENTIDAD_UM_13',\n",
    " 'ENTIDAD_UM_14',\n",
    " 'ENTIDAD_UM_15',\n",
    " 'ENTIDAD_UM_16',\n",
    " 'ENTIDAD_UM_17',\n",
    " 'ENTIDAD_UM_18',\n",
    " 'ENTIDAD_UM_19',\n",
    " 'ENTIDAD_UM_20',\n",
    " 'ENTIDAD_UM_21',\n",
    " 'ENTIDAD_UM_22',\n",
    " 'ENTIDAD_UM_23',\n",
    " 'ENTIDAD_UM_24',\n",
    " 'ENTIDAD_UM_25',\n",
    " 'ENTIDAD_UM_26',\n",
    " 'ENTIDAD_UM_27',\n",
    " 'ENTIDAD_UM_28',\n",
    " 'ENTIDAD_UM_29',\n",
    " 'ENTIDAD_UM_30',\n",
    " 'ENTIDAD_UM_31',\n",
    " 'ENTIDAD_UM_32',\n",
    " 'ENTIDAD_UM_33',\n",
    " 'ENTIDAD_UM_34',\n",
    " 'ENTIDAD_UM_35',\n",
    " 'ENTIDAD_UM_36',\n",
    " 'ENTIDAD_UM_97',\n",
    " 'ENTIDAD_UM_98',\n",
    " 'ENTIDAD_UM_99',\n",
    " 'SEXO_1',\n",
    " 'SEXO_2',\n",
    " 'SEXO_99',\n",
    " 'ENTIDAD_RES_1',\n",
    " 'ENTIDAD_RES_2',\n",
    " 'ENTIDAD_RES_3',\n",
    " 'ENTIDAD_RES_4',\n",
    " 'ENTIDAD_RES_5',\n",
    " 'ENTIDAD_RES_6',\n",
    " 'ENTIDAD_RES_7',\n",
    " 'ENTIDAD_RES_8',\n",
    " 'ENTIDAD_RES_9',\n",
    " 'ENTIDAD_RES_10',\n",
    " 'ENTIDAD_RES_11',\n",
    " 'ENTIDAD_RES_12',\n",
    " 'ENTIDAD_RES_13',\n",
    " 'ENTIDAD_RES_14',\n",
    " 'ENTIDAD_RES_15',\n",
    " 'ENTIDAD_RES_16',\n",
    " 'ENTIDAD_RES_17',\n",
    " 'ENTIDAD_RES_18',\n",
    " 'ENTIDAD_RES_19',\n",
    " 'ENTIDAD_RES_20',\n",
    " 'ENTIDAD_RES_21',\n",
    " 'ENTIDAD_RES_22',\n",
    " 'ENTIDAD_RES_23',\n",
    " 'ENTIDAD_RES_24',\n",
    " 'ENTIDAD_RES_25',\n",
    " 'ENTIDAD_RES_26',\n",
    " 'ENTIDAD_RES_27',\n",
    " 'ENTIDAD_RES_28',\n",
    " 'ENTIDAD_RES_29',\n",
    " 'ENTIDAD_RES_30',\n",
    " 'ENTIDAD_RES_31',\n",
    " 'ENTIDAD_RES_32',\n",
    " 'ENTIDAD_RES_33',\n",
    " 'ENTIDAD_RES_34',\n",
    " 'ENTIDAD_RES_35',\n",
    " 'ENTIDAD_RES_36',\n",
    " 'ENTIDAD_RES_97',\n",
    " 'ENTIDAD_RES_98',\n",
    " 'ENTIDAD_RES_99',\n",
    " 'Ambulatorio',\n",
    " 'Hospitalizado',\n",
    " 'TIPO_PACIENTE_99',\n",
    " 'INTUBADO_1',\n",
    " 'No fue intubado',\n",
    " 'INTUBADO_97',\n",
    " 'INTUBADO_98',\n",
    " 'INTUBADO_99',\n",
    " 'Tiene neumonia',\n",
    " 'No tiene neumonia',\n",
    " 'NEUMONIA_97',\n",
    " 'NEUMONIA_98',\n",
    " 'NEUMONIA_99',\n",
    " 'EMBARAZO_1',\n",
    " 'EMBARAZO_2',\n",
    " 'EMBARAZO_97',\n",
    " 'EMBARAZO_98',\n",
    " 'EMBARAZO_99',\n",
    " 'HABLA_LENGUA_INDIG_1',\n",
    " 'HABLA_LENGUA_INDIG_2',\n",
    " 'HABLA_LENGUA_INDIG_97',\n",
    " 'HABLA_LENGUA_INDIG_98',\n",
    " 'HABLA_LENGUA_INDIG_99',\n",
    " 'INDIGENA_1',\n",
    " 'INDIGENA_2',\n",
    " 'INDIGENA_97',\n",
    " 'INDIGENA_98',\n",
    " 'INDIGENA_99',\n",
    " 'DIABETES_1',\n",
    " 'DIABETES_2',\n",
    " 'DIABETES_97',\n",
    " 'DIABETES_98',\n",
    " 'DIABETES_99',\n",
    " 'EPOC_1',\n",
    " 'EPOC_2',\n",
    " 'EPOC_97',\n",
    " 'EPOC_98',\n",
    " 'EPOC_99',\n",
    " 'ASMA_1',\n",
    " 'ASMA_2',\n",
    " 'ASMA_97',\n",
    " 'ASMA_98',\n",
    " 'ASMA_99',\n",
    " 'INMUSUPR_1',\n",
    " 'INMUSUPR_2',\n",
    " 'INMUSUPR_97',\n",
    " 'INMUSUPR_98',\n",
    " 'INMUSUPR_99',\n",
    " 'HIPERTENSION_1',\n",
    " 'HIPERTENSION_2',\n",
    " 'HIPERTENSION_97',\n",
    " 'HIPERTENSION_98',\n",
    " 'HIPERTENSION_99',\n",
    " 'OTRA_COM_1',\n",
    " 'OTRA_COM_2',\n",
    " 'OTRA_COM_97',\n",
    " 'OTRA_COM_98',\n",
    " 'OTRA_COM_99',\n",
    " 'CARDIOVASCULAR_1',\n",
    " 'CARDIOVASCULAR_2',\n",
    " 'CARDIOVASCULAR_97',\n",
    " 'CARDIOVASCULAR_98',\n",
    " 'CARDIOVASCULAR_99',\n",
    " 'OBESIDAD_1',\n",
    " 'OBESIDAD_2',\n",
    " 'OBESIDAD_97',\n",
    " 'OBESIDAD_98',\n",
    " 'OBESIDAD_99',\n",
    " 'RENAL_CRONICA_1',\n",
    " 'RENAL_CRONICA_2',\n",
    " 'RENAL_CRONICA_97',\n",
    " 'RENAL_CRONICA_98',\n",
    " 'RENAL_CRONICA_99',\n",
    " 'TABAQUISMO_1',\n",
    " 'TABAQUISMO_2',\n",
    " 'TABAQUISMO_97',\n",
    " 'TABAQUISMO_98',\n",
    " 'TABAQUISMO_99',\n",
    " 'OTRO_CASO_1',\n",
    " 'OTRO_CASO_2',\n",
    " 'OTRO_CASO_97',\n",
    " 'OTRO_CASO_98',\n",
    " 'Se desconoce si tuvo contacto',\n",
    " 'UCI_1',\n",
    " 'UCI_2',\n",
    " 'Cuidados intensivos ',\n",
    " 'UCI_98',\n",
    " 'UCI_99'\n",
    " ]"
   ]
  },
  {
   "cell_type": "code",
   "execution_count": null,
   "metadata": {
    "colab": {
     "base_uri": "https://localhost:8080/"
    },
    "id": "T1320fT99FU5",
    "outputId": "d269dd62-3513-4d98-9382-17a7cd01e5c6"
   },
   "outputs": [
    {
     "name": "stdout",
     "output_type": "stream",
     "text": [
      "[328.13141492]\n",
      "[52.51287419]\n"
     ]
    }
   ],
   "source": [
    "scaler2 = StandardScaler()\n",
    "scaler2.fit(np.reshape(X_train['EDAD'].values,(-1,1)))\n",
    "print(scaler2.var_)\n",
    "print(scaler2.mean_)"
   ]
  },
  {
   "cell_type": "code",
   "execution_count": null,
   "metadata": {
    "id": "3FwVyeb1lJJ3"
   },
   "outputs": [],
   "source": [
    "clf = tree.DecisionTreeClassifier(max_depth=3, splitter='best')\n",
    "clf = clf.fit(X_train_transformed, y_train)"
   ]
  },
  {
   "cell_type": "code",
   "execution_count": null,
   "metadata": {
    "colab": {
     "base_uri": "https://localhost:8080/",
     "height": 498
    },
    "id": "HKFHE7Jble5t",
    "outputId": "aa72c85c-c4d4-4a20-a603-b0402d978238"
   },
   "outputs": [
    {
     "name": "stdout",
     "output_type": "stream",
     "text": [
      "Accuracy on train set: 0.8898096858143965\n",
      "Accuracy on test set: 0.8904267589388697\n",
      "              precision    recall  f1-score   support\n",
      "\n",
      "   Defuncion       0.94      0.84      0.88     29478\n",
      "Recuperacion       0.85      0.94      0.90     29478\n",
      "\n",
      "    accuracy                           0.89     58956\n",
      "   macro avg       0.90      0.89      0.89     58956\n",
      "weighted avg       0.90      0.89      0.89     58956\n",
      "\n"
     ]
    },
    {
     "data": {
      "image/png": "[encoded data removed]",
      "text/plain": [
       "<Figure size 432x288 with 1 Axes>"
      ]
     },
     "metadata": {
      "needs_background": "light",
      "tags": []
     },
     "output_type": "display_data"
    }
   ],
   "source": [
    "print('Accuracy on train set: ' + str(clf.score(X_train_transformed, y_train)))\n",
    "print('Accuracy on test set: ' + str(clf.score(X_test_transformed, y_test)))\n",
    "# Create list of target class names\n",
    "class_names = ['Defuncion', 'Recuperacion']\n",
    "target_predicted = clf.predict(X_test_transformed)\n",
    "print(classification_report(y_test,\n",
    "      target_predicted,\n",
    "      target_names=class_names))\n",
    "# Create confusion matrix\n",
    "cmatrix = confusion_matrix(y_test, target_predicted)\n",
    "# Create pandas dataframe\n",
    "dataframe = pd.DataFrame(cmatrix, index=class_names, columns=class_names)\n",
    "sns.heatmap(dataframe, annot=True, cbar=None, cmap=\"Blues\")\n",
    "plt.title(\"Confusion Matrix\"), plt.tight_layout()\n",
    "plt.ylabel(\"True Class\"), plt.xlabel(\"Predicted Class\")\n",
    "plt.show()"
   ]
  },
  {
   "cell_type": "code",
   "execution_count": null,
   "metadata": {
    "colab": {
     "base_uri": "https://localhost:8080/",
     "height": 618
    },
    "id": "NJGbTYVpmOYq",
    "outputId": "403aa026-1cc1-427d-f8b8-9ae417542d81"
   },
   "outputs": [
    {
     "data": {
      "image/svg+xml": [
       "<?xml version=\"1.0\" encoding=\"UTF-8\" standalone=\"no\"?>\n",
       "<!DOCTYPE svg PUBLIC \"-//W3C//DTD SVG 1.1//EN\"\n",
       " \"http://www.w3.org/Graphics/SVG/1.1/DTD/svg11.dtd\">\n",
       "<!-- Generated by graphviz version 2.40.1 (20161225.0304)\n",
       " -->\n",
       "<!-- Title: Tree Pages: 1 -->\n",
       "<svg width=\"1334pt\" height=\"433pt\"\n",
       " viewBox=\"0.00 0.00 1334.00 433.00\" xmlns=\"http://www.w3.org/2000/svg\" xmlns:xlink=\"http://www.w3.org/1999/xlink\">\n",
       "<g id=\"graph0\" class=\"graph\" transform=\"scale(1 1) rotate(0) translate(4 429)\">\n",
       "<title>Tree</title>\n",
       "<polygon fill=\"#ffffff\" stroke=\"transparent\" points=\"-4,4 -4,-429 1330,-429 1330,4 -4,4\"/>\n",
       "<!-- 0 -->\n",
       "<g id=\"node1\" class=\"node\">\n",
       "<title>0</title>\n",
       "<path fill=\"#ffffff\" stroke=\"#000000\" d=\"M720,-425C720,-425 579,-425 579,-425 573,-425 567,-419 567,-413 567,-413 567,-354 567,-354 567,-348 573,-342 579,-342 579,-342 720,-342 720,-342 726,-342 732,-348 732,-354 732,-354 732,-413 732,-413 732,-419 726,-425 720,-425\"/>\n",
       "<text text-anchor=\"start\" x=\"587.5\" y=\"-409.8\" font-family=\"Helvetica,sans-Serif\" font-size=\"14.00\" fill=\"#000000\">Hospitalizado ≤ 0.5</text>\n",
       "<text text-anchor=\"start\" x=\"620\" y=\"-394.8\" font-family=\"Helvetica,sans-Serif\" font-size=\"14.00\" fill=\"#000000\">gini = 0.5</text>\n",
       "<text text-anchor=\"start\" x=\"589\" y=\"-379.8\" font-family=\"Helvetica,sans-Serif\" font-size=\"14.00\" fill=\"#000000\">samples = 137562</text>\n",
       "<text text-anchor=\"start\" x=\"575\" y=\"-364.8\" font-family=\"Helvetica,sans-Serif\" font-size=\"14.00\" fill=\"#000000\">value = [68781, 68781]</text>\n",
       "<text text-anchor=\"start\" x=\"579\" y=\"-349.8\" font-family=\"Helvetica,sans-Serif\" font-size=\"14.00\" fill=\"#000000\">class = Recuperacion</text>\n",
       "</g>\n",
       "<!-- 1 -->\n",
       "<g id=\"node2\" class=\"node\">\n",
       "<title>1</title>\n",
       "<path fill=\"#e89153\" stroke=\"#000000\" d=\"M551,-306C551,-306 418,-306 418,-306 412,-306 406,-300 406,-294 406,-294 406,-235 406,-235 406,-229 412,-223 418,-223 418,-223 551,-223 551,-223 557,-223 563,-229 563,-235 563,-235 563,-294 563,-294 563,-300 557,-306 551,-306\"/>\n",
       "<text text-anchor=\"start\" x=\"414.5\" y=\"-290.8\" font-family=\"Helvetica,sans-Serif\" font-size=\"14.00\" fill=\"#000000\">Tiene neumonia ≤ 0.5</text>\n",
       "<text text-anchor=\"start\" x=\"446.5\" y=\"-275.8\" font-family=\"Helvetica,sans-Serif\" font-size=\"14.00\" fill=\"#000000\">gini = 0.204</text>\n",
       "<text text-anchor=\"start\" x=\"428.5\" y=\"-260.8\" font-family=\"Helvetica,sans-Serif\" font-size=\"14.00\" fill=\"#000000\">samples = 65862</text>\n",
       "<text text-anchor=\"start\" x=\"414\" y=\"-245.8\" font-family=\"Helvetica,sans-Serif\" font-size=\"14.00\" fill=\"#000000\">value = [58258, 7604]</text>\n",
       "<text text-anchor=\"start\" x=\"414\" y=\"-230.8\" font-family=\"Helvetica,sans-Serif\" font-size=\"14.00\" fill=\"#000000\">class = Recuperacion</text>\n",
       "</g>\n",
       "<!-- 0&#45;&gt;1 -->\n",
       "<g id=\"edge1\" class=\"edge\">\n",
       "<title>0&#45;&gt;1</title>\n",
       "<path fill=\"none\" stroke=\"#000000\" d=\"M591.791,-341.8796C578.477,-332.2774 564.2134,-321.9903 550.5741,-312.1534\"/>\n",
       "<polygon fill=\"#000000\" stroke=\"#000000\" points=\"552.3345,-309.1077 542.1764,-306.0969 548.2398,-314.7852 552.3345,-309.1077\"/>\n",
       "<text text-anchor=\"middle\" x=\"546.1736\" y=\"-327.0753\" font-family=\"Helvetica,sans-Serif\" font-size=\"14.00\" fill=\"#000000\">True</text>\n",
       "</g>\n",
       "<!-- 8 -->\n",
       "<g id=\"node9\" class=\"node\">\n",
       "<title>8</title>\n",
       "<path fill=\"#5baee9\" stroke=\"#000000\" d=\"M877,-306C877,-306 736,-306 736,-306 730,-306 724,-300 724,-294 724,-294 724,-235 724,-235 724,-229 730,-223 736,-223 736,-223 877,-223 877,-223 883,-223 889,-229 889,-235 889,-235 889,-294 889,-294 889,-300 883,-306 877,-306\"/>\n",
       "<text text-anchor=\"start\" x=\"737\" y=\"-290.8\" font-family=\"Helvetica,sans-Serif\" font-size=\"14.00\" fill=\"#000000\">No fue intubado ≤ 0.5</text>\n",
       "<text text-anchor=\"start\" x=\"773\" y=\"-275.8\" font-family=\"Helvetica,sans-Serif\" font-size=\"14.00\" fill=\"#000000\">gini = 0.25</text>\n",
       "<text text-anchor=\"start\" x=\"750.5\" y=\"-260.8\" font-family=\"Helvetica,sans-Serif\" font-size=\"14.00\" fill=\"#000000\">samples = 71700</text>\n",
       "<text text-anchor=\"start\" x=\"732\" y=\"-245.8\" font-family=\"Helvetica,sans-Serif\" font-size=\"14.00\" fill=\"#000000\">value = [10523, 61177]</text>\n",
       "<text text-anchor=\"start\" x=\"748.5\" y=\"-230.8\" font-family=\"Helvetica,sans-Serif\" font-size=\"14.00\" fill=\"#000000\">class = Defuncion</text>\n",
       "</g>\n",
       "<!-- 0&#45;&gt;8 -->\n",
       "<g id=\"edge8\" class=\"edge\">\n",
       "<title>0&#45;&gt;8</title>\n",
       "<path fill=\"none\" stroke=\"#000000\" d=\"M704.411,-341.8796C717.0794,-332.2774 730.6515,-321.9903 743.6295,-312.1534\"/>\n",
       "<polygon fill=\"#000000\" stroke=\"#000000\" points=\"745.7648,-314.9268 751.62,-306.0969 741.5364,-309.3482 745.7648,-314.9268\"/>\n",
       "<text text-anchor=\"middle\" x=\"748.2102\" y=\"-327.1633\" font-family=\"Helvetica,sans-Serif\" font-size=\"14.00\" fill=\"#000000\">False</text>\n",
       "</g>\n",
       "<!-- 2 -->\n",
       "<g id=\"node3\" class=\"node\">\n",
       "<title>2</title>\n",
       "<path fill=\"#e78945\" stroke=\"#000000\" d=\"M320,-187C320,-187 187,-187 187,-187 181,-187 175,-181 175,-175 175,-175 175,-116 175,-116 175,-110 181,-104 187,-104 187,-104 320,-104 320,-104 326,-104 332,-110 332,-116 332,-116 332,-175 332,-175 332,-181 326,-187 320,-187\"/>\n",
       "<text text-anchor=\"start\" x=\"207\" y=\"-171.8\" font-family=\"Helvetica,sans-Serif\" font-size=\"14.00\" fill=\"#000000\">EDAD ≤ 0.441</text>\n",
       "<text text-anchor=\"start\" x=\"215.5\" y=\"-156.8\" font-family=\"Helvetica,sans-Serif\" font-size=\"14.00\" fill=\"#000000\">gini = 0.108</text>\n",
       "<text text-anchor=\"start\" x=\"197.5\" y=\"-141.8\" font-family=\"Helvetica,sans-Serif\" font-size=\"14.00\" fill=\"#000000\">samples = 60165</text>\n",
       "<text text-anchor=\"start\" x=\"183\" y=\"-126.8\" font-family=\"Helvetica,sans-Serif\" font-size=\"14.00\" fill=\"#000000\">value = [56719, 3446]</text>\n",
       "<text text-anchor=\"start\" x=\"183\" y=\"-111.8\" font-family=\"Helvetica,sans-Serif\" font-size=\"14.00\" fill=\"#000000\">class = Recuperacion</text>\n",
       "</g>\n",
       "<!-- 1&#45;&gt;2 -->\n",
       "<g id=\"edge2\" class=\"edge\">\n",
       "<title>1&#45;&gt;2</title>\n",
       "<path fill=\"none\" stroke=\"#000000\" d=\"M405.9716,-224.046C385.1424,-213.3158 362.5199,-201.6618 341.2347,-190.6967\"/>\n",
       "<polygon fill=\"#000000\" stroke=\"#000000\" points=\"342.6962,-187.5124 332.2035,-186.0442 339.4904,-193.7353 342.6962,-187.5124\"/>\n",
       "</g>\n",
       "<!-- 5 -->\n",
       "<g id=\"node6\" class=\"node\">\n",
       "<title>5</title>\n",
       "<path fill=\"#82c1ef\" stroke=\"#000000\" d=\"M547,-187C547,-187 422,-187 422,-187 416,-187 410,-181 410,-175 410,-175 410,-116 410,-116 410,-110 416,-104 422,-104 422,-104 547,-104 547,-104 553,-104 559,-110 559,-116 559,-116 559,-175 559,-175 559,-181 553,-187 547,-187\"/>\n",
       "<text text-anchor=\"start\" x=\"436\" y=\"-171.8\" font-family=\"Helvetica,sans-Serif\" font-size=\"14.00\" fill=\"#000000\">EDAD ≤ &#45;0.332</text>\n",
       "<text text-anchor=\"start\" x=\"446.5\" y=\"-156.8\" font-family=\"Helvetica,sans-Serif\" font-size=\"14.00\" fill=\"#000000\">gini = 0.394</text>\n",
       "<text text-anchor=\"start\" x=\"432.5\" y=\"-141.8\" font-family=\"Helvetica,sans-Serif\" font-size=\"14.00\" fill=\"#000000\">samples = 5697</text>\n",
       "<text text-anchor=\"start\" x=\"418\" y=\"-126.8\" font-family=\"Helvetica,sans-Serif\" font-size=\"14.00\" fill=\"#000000\">value = [1539, 4158]</text>\n",
       "<text text-anchor=\"start\" x=\"426.5\" y=\"-111.8\" font-family=\"Helvetica,sans-Serif\" font-size=\"14.00\" fill=\"#000000\">class = Defuncion</text>\n",
       "</g>\n",
       "<!-- 1&#45;&gt;5 -->\n",
       "<g id=\"edge5\" class=\"edge\">\n",
       "<title>1&#45;&gt;5</title>\n",
       "<path fill=\"none\" stroke=\"#000000\" d=\"M484.5,-222.8796C484.5,-214.6838 484.5,-205.9891 484.5,-197.5013\"/>\n",
       "<polygon fill=\"#000000\" stroke=\"#000000\" points=\"488.0001,-197.298 484.5,-187.2981 481.0001,-197.2981 488.0001,-197.298\"/>\n",
       "</g>\n",
       "<!-- 3 -->\n",
       "<g id=\"node4\" class=\"node\">\n",
       "<title>3</title>\n",
       "<path fill=\"#e6853f\" stroke=\"#000000\" d=\"M145,-68C145,-68 12,-68 12,-68 6,-68 0,-62 0,-56 0,-56 0,-12 0,-12 0,-6 6,0 12,0 12,0 145,0 145,0 151,0 157,-6 157,-12 157,-12 157,-56 157,-56 157,-62 151,-68 145,-68\"/>\n",
       "<text text-anchor=\"start\" x=\"45\" y=\"-52.8\" font-family=\"Helvetica,sans-Serif\" font-size=\"14.00\" fill=\"#000000\">gini = 0.06</text>\n",
       "<text text-anchor=\"start\" x=\"22.5\" y=\"-37.8\" font-family=\"Helvetica,sans-Serif\" font-size=\"14.00\" fill=\"#000000\">samples = 53050</text>\n",
       "<text text-anchor=\"start\" x=\"8\" y=\"-22.8\" font-family=\"Helvetica,sans-Serif\" font-size=\"14.00\" fill=\"#000000\">value = [51418, 1632]</text>\n",
       "<text text-anchor=\"start\" x=\"8\" y=\"-7.8\" font-family=\"Helvetica,sans-Serif\" font-size=\"14.00\" fill=\"#000000\">class = Recuperacion</text>\n",
       "</g>\n",
       "<!-- 2&#45;&gt;3 -->\n",
       "<g id=\"edge3\" class=\"edge\">\n",
       "<title>2&#45;&gt;3</title>\n",
       "<path fill=\"none\" stroke=\"#000000\" d=\"M188.3365,-103.9815C172.6757,-94.0034 155.9918,-83.3733 140.4805,-73.4904\"/>\n",
       "<polygon fill=\"#000000\" stroke=\"#000000\" points=\"142.312,-70.5073 131.9976,-68.0856 138.5506,-76.4109 142.312,-70.5073\"/>\n",
       "</g>\n",
       "<!-- 4 -->\n",
       "<g id=\"node5\" class=\"node\">\n",
       "<title>4</title>\n",
       "<path fill=\"#eeac7d\" stroke=\"#000000\" d=\"M320,-68C320,-68 187,-68 187,-68 181,-68 175,-62 175,-56 175,-56 175,-12 175,-12 175,-6 181,0 187,0 187,0 320,0 320,0 326,0 332,-6 332,-12 332,-12 332,-56 332,-56 332,-62 326,-68 320,-68\"/>\n",
       "<text text-anchor=\"start\" x=\"220\" y=\"-52.8\" font-family=\"Helvetica,sans-Serif\" font-size=\"14.00\" fill=\"#000000\">gini = 0.38</text>\n",
       "<text text-anchor=\"start\" x=\"201.5\" y=\"-37.8\" font-family=\"Helvetica,sans-Serif\" font-size=\"14.00\" fill=\"#000000\">samples = 7115</text>\n",
       "<text text-anchor=\"start\" x=\"187\" y=\"-22.8\" font-family=\"Helvetica,sans-Serif\" font-size=\"14.00\" fill=\"#000000\">value = [5301, 1814]</text>\n",
       "<text text-anchor=\"start\" x=\"183\" y=\"-7.8\" font-family=\"Helvetica,sans-Serif\" font-size=\"14.00\" fill=\"#000000\">class = Recuperacion</text>\n",
       "</g>\n",
       "<!-- 2&#45;&gt;4 -->\n",
       "<g id=\"edge4\" class=\"edge\">\n",
       "<title>2&#45;&gt;4</title>\n",
       "<path fill=\"none\" stroke=\"#000000\" d=\"M253.5,-103.9815C253.5,-95.618 253.5,-86.7965 253.5,-78.3409\"/>\n",
       "<polygon fill=\"#000000\" stroke=\"#000000\" points=\"257.0001,-78.2636 253.5,-68.2637 250.0001,-78.2637 257.0001,-78.2636\"/>\n",
       "</g>\n",
       "<!-- 6 -->\n",
       "<g id=\"node7\" class=\"node\">\n",
       "<title>6</title>\n",
       "<path fill=\"#f5ceb2\" stroke=\"#000000\" d=\"M495,-68C495,-68 362,-68 362,-68 356,-68 350,-62 350,-56 350,-56 350,-12 350,-12 350,-6 356,0 362,0 362,0 495,0 495,0 501,0 507,-6 507,-12 507,-12 507,-56 507,-56 507,-62 501,-68 495,-68\"/>\n",
       "<text text-anchor=\"start\" x=\"390.5\" y=\"-52.8\" font-family=\"Helvetica,sans-Serif\" font-size=\"14.00\" fill=\"#000000\">gini = 0.471</text>\n",
       "<text text-anchor=\"start\" x=\"376.5\" y=\"-37.8\" font-family=\"Helvetica,sans-Serif\" font-size=\"14.00\" fill=\"#000000\">samples = 1452</text>\n",
       "<text text-anchor=\"start\" x=\"370.5\" y=\"-22.8\" font-family=\"Helvetica,sans-Serif\" font-size=\"14.00\" fill=\"#000000\">value = [901, 551]</text>\n",
       "<text text-anchor=\"start\" x=\"358\" y=\"-7.8\" font-family=\"Helvetica,sans-Serif\" font-size=\"14.00\" fill=\"#000000\">class = Recuperacion</text>\n",
       "</g>\n",
       "<!-- 5&#45;&gt;6 -->\n",
       "<g id=\"edge6\" class=\"edge\">\n",
       "<title>5&#45;&gt;6</title>\n",
       "<path fill=\"none\" stroke=\"#000000\" d=\"M463.6477,-103.9815C459.2625,-95.2504 454.6267,-86.0202 450.211,-77.2281\"/>\n",
       "<polygon fill=\"#000000\" stroke=\"#000000\" points=\"453.3246,-75.6291 445.7087,-68.2637 447.0692,-78.7708 453.3246,-75.6291\"/>\n",
       "</g>\n",
       "<!-- 7 -->\n",
       "<g id=\"node8\" class=\"node\">\n",
       "<title>7</title>\n",
       "<path fill=\"#5caeea\" stroke=\"#000000\" d=\"M653.5,-68C653.5,-68 537.5,-68 537.5,-68 531.5,-68 525.5,-62 525.5,-56 525.5,-56 525.5,-12 525.5,-12 525.5,-6 531.5,0 537.5,0 537.5,0 653.5,0 653.5,0 659.5,0 665.5,-6 665.5,-12 665.5,-12 665.5,-56 665.5,-56 665.5,-62 659.5,-68 653.5,-68\"/>\n",
       "<text text-anchor=\"start\" x=\"557.5\" y=\"-52.8\" font-family=\"Helvetica,sans-Serif\" font-size=\"14.00\" fill=\"#000000\">gini = 0.255</text>\n",
       "<text text-anchor=\"start\" x=\"543.5\" y=\"-37.8\" font-family=\"Helvetica,sans-Serif\" font-size=\"14.00\" fill=\"#000000\">samples = 4245</text>\n",
       "<text text-anchor=\"start\" x=\"533.5\" y=\"-22.8\" font-family=\"Helvetica,sans-Serif\" font-size=\"14.00\" fill=\"#000000\">value = [638, 3607]</text>\n",
       "<text text-anchor=\"start\" x=\"537.5\" y=\"-7.8\" font-family=\"Helvetica,sans-Serif\" font-size=\"14.00\" fill=\"#000000\">class = Defuncion</text>\n",
       "</g>\n",
       "<!-- 5&#45;&gt;7 -->\n",
       "<g id=\"edge7\" class=\"edge\">\n",
       "<title>5&#45;&gt;7</title>\n",
       "<path fill=\"none\" stroke=\"#000000\" d=\"M525.8323,-103.9815C535.0733,-94.6989 544.8758,-84.8522 554.1187,-75.5677\"/>\n",
       "<polygon fill=\"#000000\" stroke=\"#000000\" points=\"556.8152,-77.82 561.39,-68.2637 551.8543,-72.8813 556.8152,-77.82\"/>\n",
       "</g>\n",
       "<!-- 9 -->\n",
       "<g id=\"node10\" class=\"node\">\n",
       "<title>9</title>\n",
       "<path fill=\"#3e9fe6\" stroke=\"#000000\" d=\"M920,-187C920,-187 693,-187 693,-187 687,-187 681,-181 681,-175 681,-175 681,-116 681,-116 681,-110 687,-104 693,-104 693,-104 920,-104 920,-104 926,-104 932,-110 932,-116 932,-116 932,-175 932,-175 932,-181 926,-187 920,-187\"/>\n",
       "<text text-anchor=\"start\" x=\"689\" y=\"-171.8\" font-family=\"Helvetica,sans-Serif\" font-size=\"14.00\" fill=\"#000000\">Se desconoce si tuvo contacto ≤ 0.5</text>\n",
       "<text text-anchor=\"start\" x=\"768.5\" y=\"-156.8\" font-family=\"Helvetica,sans-Serif\" font-size=\"14.00\" fill=\"#000000\">gini = 0.048</text>\n",
       "<text text-anchor=\"start\" x=\"750.5\" y=\"-141.8\" font-family=\"Helvetica,sans-Serif\" font-size=\"14.00\" fill=\"#000000\">samples = 21611</text>\n",
       "<text text-anchor=\"start\" x=\"740\" y=\"-126.8\" font-family=\"Helvetica,sans-Serif\" font-size=\"14.00\" fill=\"#000000\">value = [533, 21078]</text>\n",
       "<text text-anchor=\"start\" x=\"748.5\" y=\"-111.8\" font-family=\"Helvetica,sans-Serif\" font-size=\"14.00\" fill=\"#000000\">class = Defuncion</text>\n",
       "</g>\n",
       "<!-- 8&#45;&gt;9 -->\n",
       "<g id=\"edge9\" class=\"edge\">\n",
       "<title>8&#45;&gt;9</title>\n",
       "<path fill=\"none\" stroke=\"#000000\" d=\"M806.5,-222.8796C806.5,-214.6838 806.5,-205.9891 806.5,-197.5013\"/>\n",
       "<polygon fill=\"#000000\" stroke=\"#000000\" points=\"810.0001,-197.298 806.5,-187.2981 803.0001,-197.2981 810.0001,-197.298\"/>\n",
       "</g>\n",
       "<!-- 12 -->\n",
       "<g id=\"node13\" class=\"node\">\n",
       "<title>12</title>\n",
       "<path fill=\"#6ab5eb\" stroke=\"#000000\" d=\"M1143,-187C1143,-187 1010,-187 1010,-187 1004,-187 998,-181 998,-175 998,-175 998,-116 998,-116 998,-110 1004,-104 1010,-104 1010,-104 1143,-104 1143,-104 1149,-104 1155,-110 1155,-116 1155,-116 1155,-175 1155,-175 1155,-181 1149,-187 1143,-187\"/>\n",
       "<text text-anchor=\"start\" x=\"1028\" y=\"-171.8\" font-family=\"Helvetica,sans-Serif\" font-size=\"14.00\" fill=\"#000000\">EDAD ≤ &#45;0.111</text>\n",
       "<text text-anchor=\"start\" x=\"1038.5\" y=\"-156.8\" font-family=\"Helvetica,sans-Serif\" font-size=\"14.00\" fill=\"#000000\">gini = 0.319</text>\n",
       "<text text-anchor=\"start\" x=\"1020.5\" y=\"-141.8\" font-family=\"Helvetica,sans-Serif\" font-size=\"14.00\" fill=\"#000000\">samples = 50089</text>\n",
       "<text text-anchor=\"start\" x=\"1006\" y=\"-126.8\" font-family=\"Helvetica,sans-Serif\" font-size=\"14.00\" fill=\"#000000\">value = [9990, 40099]</text>\n",
       "<text text-anchor=\"start\" x=\"1018.5\" y=\"-111.8\" font-family=\"Helvetica,sans-Serif\" font-size=\"14.00\" fill=\"#000000\">class = Defuncion</text>\n",
       "</g>\n",
       "<!-- 8&#45;&gt;12 -->\n",
       "<g id=\"edge12\" class=\"edge\">\n",
       "<title>8&#45;&gt;12</title>\n",
       "<path fill=\"none\" stroke=\"#000000\" d=\"M889.3438,-227.9874C920.8064,-214.1205 956.7352,-198.2852 988.6451,-184.2213\"/>\n",
       "<polygon fill=\"#000000\" stroke=\"#000000\" points=\"990.23,-187.3476 997.9691,-180.1118 987.4069,-180.9422 990.23,-187.3476\"/>\n",
       "</g>\n",
       "<!-- 10 -->\n",
       "<g id=\"node11\" class=\"node\">\n",
       "<title>10</title>\n",
       "<path fill=\"#42a1e6\" stroke=\"#000000\" d=\"M821,-68C821,-68 696,-68 696,-68 690,-68 684,-62 684,-56 684,-56 684,-12 684,-12 684,-6 690,0 696,0 696,0 821,0 821,0 827,0 833,-6 833,-12 833,-12 833,-56 833,-56 833,-62 827,-68 821,-68\"/>\n",
       "<text text-anchor=\"start\" x=\"720.5\" y=\"-52.8\" font-family=\"Helvetica,sans-Serif\" font-size=\"14.00\" fill=\"#000000\">gini = 0.079</text>\n",
       "<text text-anchor=\"start\" x=\"702.5\" y=\"-37.8\" font-family=\"Helvetica,sans-Serif\" font-size=\"14.00\" fill=\"#000000\">samples = 11635</text>\n",
       "<text text-anchor=\"start\" x=\"692\" y=\"-22.8\" font-family=\"Helvetica,sans-Serif\" font-size=\"14.00\" fill=\"#000000\">value = [480, 11155]</text>\n",
       "<text text-anchor=\"start\" x=\"700.5\" y=\"-7.8\" font-family=\"Helvetica,sans-Serif\" font-size=\"14.00\" fill=\"#000000\">class = Defuncion</text>\n",
       "</g>\n",
       "<!-- 9&#45;&gt;10 -->\n",
       "<g id=\"edge10\" class=\"edge\">\n",
       "<title>9&#45;&gt;10</title>\n",
       "<path fill=\"none\" stroke=\"#000000\" d=\"M788.6266,-103.9815C784.9074,-95.3423 780.978,-86.2144 777.229,-77.5059\"/>\n",
       "<polygon fill=\"#000000\" stroke=\"#000000\" points=\"780.4192,-76.0648 773.2503,-68.2637 773.9897,-78.8327 780.4192,-76.0648\"/>\n",
       "</g>\n",
       "<!-- 11 -->\n",
       "<g id=\"node12\" class=\"node\">\n",
       "<title>11</title>\n",
       "<path fill=\"#3a9ee5\" stroke=\"#000000\" d=\"M971.5,-68C971.5,-68 863.5,-68 863.5,-68 857.5,-68 851.5,-62 851.5,-56 851.5,-56 851.5,-12 851.5,-12 851.5,-6 857.5,0 863.5,0 863.5,0 971.5,0 971.5,0 977.5,0 983.5,-6 983.5,-12 983.5,-12 983.5,-56 983.5,-56 983.5,-62 977.5,-68 971.5,-68\"/>\n",
       "<text text-anchor=\"start\" x=\"879.5\" y=\"-52.8\" font-family=\"Helvetica,sans-Serif\" font-size=\"14.00\" fill=\"#000000\">gini = 0.011</text>\n",
       "<text text-anchor=\"start\" x=\"865.5\" y=\"-37.8\" font-family=\"Helvetica,sans-Serif\" font-size=\"14.00\" fill=\"#000000\">samples = 9976</text>\n",
       "<text text-anchor=\"start\" x=\"859.5\" y=\"-22.8\" font-family=\"Helvetica,sans-Serif\" font-size=\"14.00\" fill=\"#000000\">value = [53, 9923]</text>\n",
       "<text text-anchor=\"start\" x=\"859.5\" y=\"-7.8\" font-family=\"Helvetica,sans-Serif\" font-size=\"14.00\" fill=\"#000000\">class = Defuncion</text>\n",
       "</g>\n",
       "<!-- 9&#45;&gt;11 -->\n",
       "<g id=\"edge11\" class=\"edge\">\n",
       "<title>9&#45;&gt;11</title>\n",
       "<path fill=\"none\" stroke=\"#000000\" d=\"M847.8323,-103.9815C857.0733,-94.6989 866.8758,-84.8522 876.1187,-75.5677\"/>\n",
       "<polygon fill=\"#000000\" stroke=\"#000000\" points=\"878.8152,-77.82 883.39,-68.2637 873.8543,-72.8813 878.8152,-77.82\"/>\n",
       "</g>\n",
       "<!-- 13 -->\n",
       "<g id=\"node14\" class=\"node\">\n",
       "<title>13</title>\n",
       "<path fill=\"#b9dcf6\" stroke=\"#000000\" d=\"M1139,-68C1139,-68 1014,-68 1014,-68 1008,-68 1002,-62 1002,-56 1002,-56 1002,-12 1002,-12 1002,-6 1008,0 1014,0 1014,0 1139,0 1139,0 1145,0 1151,-6 1151,-12 1151,-12 1151,-56 1151,-56 1151,-62 1145,-68 1139,-68\"/>\n",
       "<text text-anchor=\"start\" x=\"1038.5\" y=\"-52.8\" font-family=\"Helvetica,sans-Serif\" font-size=\"14.00\" fill=\"#000000\">gini = 0.477</text>\n",
       "<text text-anchor=\"start\" x=\"1020.5\" y=\"-37.8\" font-family=\"Helvetica,sans-Serif\" font-size=\"14.00\" fill=\"#000000\">samples = 11272</text>\n",
       "<text text-anchor=\"start\" x=\"1010\" y=\"-22.8\" font-family=\"Helvetica,sans-Serif\" font-size=\"14.00\" fill=\"#000000\">value = [4428, 6844]</text>\n",
       "<text text-anchor=\"start\" x=\"1018.5\" y=\"-7.8\" font-family=\"Helvetica,sans-Serif\" font-size=\"14.00\" fill=\"#000000\">class = Defuncion</text>\n",
       "</g>\n",
       "<!-- 12&#45;&gt;13 -->\n",
       "<g id=\"edge13\" class=\"edge\">\n",
       "<title>12&#45;&gt;13</title>\n",
       "<path fill=\"none\" stroke=\"#000000\" d=\"M1076.5,-103.9815C1076.5,-95.618 1076.5,-86.7965 1076.5,-78.3409\"/>\n",
       "<polygon fill=\"#000000\" stroke=\"#000000\" points=\"1080.0001,-78.2636 1076.5,-68.2637 1073.0001,-78.2637 1080.0001,-78.2636\"/>\n",
       "</g>\n",
       "<!-- 14 -->\n",
       "<g id=\"node15\" class=\"node\">\n",
       "<title>14</title>\n",
       "<path fill=\"#5aade9\" stroke=\"#000000\" d=\"M1314,-68C1314,-68 1181,-68 1181,-68 1175,-68 1169,-62 1169,-56 1169,-56 1169,-12 1169,-12 1169,-6 1175,0 1181,0 1181,0 1314,0 1314,0 1320,0 1326,-6 1326,-12 1326,-12 1326,-56 1326,-56 1326,-62 1320,-68 1314,-68\"/>\n",
       "<text text-anchor=\"start\" x=\"1209.5\" y=\"-52.8\" font-family=\"Helvetica,sans-Serif\" font-size=\"14.00\" fill=\"#000000\">gini = 0.246</text>\n",
       "<text text-anchor=\"start\" x=\"1191.5\" y=\"-37.8\" font-family=\"Helvetica,sans-Serif\" font-size=\"14.00\" fill=\"#000000\">samples = 38817</text>\n",
       "<text text-anchor=\"start\" x=\"1177\" y=\"-22.8\" font-family=\"Helvetica,sans-Serif\" font-size=\"14.00\" fill=\"#000000\">value = [5562, 33255]</text>\n",
       "<text text-anchor=\"start\" x=\"1189.5\" y=\"-7.8\" font-family=\"Helvetica,sans-Serif\" font-size=\"14.00\" fill=\"#000000\">class = Defuncion</text>\n",
       "</g>\n",
       "<!-- 12&#45;&gt;14 -->\n",
       "<g id=\"edge14\" class=\"edge\">\n",
       "<title>12&#45;&gt;14</title>\n",
       "<path fill=\"none\" stroke=\"#000000\" d=\"M1140.1741,-103.9815C1155.3352,-94.0957 1171.4776,-83.5701 1186.5149,-73.7651\"/>\n",
       "<polygon fill=\"#000000\" stroke=\"#000000\" points=\"1188.7603,-76.4794 1195.2252,-68.0856 1184.9369,-70.6158 1188.7603,-76.4794\"/>\n",
       "</g>\n",
       "</g>\n",
       "</svg>\n"
      ],
      "text/plain": [
       "<graphviz.files.Source at 0x7fee1cc83710>"
      ]
     },
     "execution_count": 28,
     "metadata": {
      "tags": []
     },
     "output_type": "execute_result"
    }
   ],
   "source": [
    "dot_data = tree.export_graphviz(clf, out_file=None,\n",
    "                                feature_names = feature_name_list,\n",
    "                                class_names = ['Recuperacion', 'Defuncion'],\n",
    "                                filled=True, rounded=True,\n",
    "                                special_characters=True)\n",
    "graph = graphviz.Source(dot_data)\n",
    "graph"
   ]
  },
  {
   "cell_type": "markdown",
   "metadata": {
    "id": "kIJcsPf4Umft"
   },
   "source": [
    "# **Neural Network MLP**"
   ]
  },
  {
   "cell_type": "code",
   "execution_count": null,
   "metadata": {
    "id": "6zX7AKbQMdjG"
   },
   "outputs": [],
   "source": [
    "number_of_features = X_train_transformed.shape[1]\n",
    "# Create function returning a compiled network\n",
    "def create_network(optimizer=\"rmsprop\"):\n",
    "    # Start neural network\n",
    "    network = models.Sequential()\n",
    "    # Add fully connected layer with a ReLU activation function\n",
    "    network.add(layers.Dense(units=16,\n",
    "                            activation=\"relu\",\n",
    "                            input_shape=(number_of_features,)))\n",
    "    # Add fully connected layer with a ReLU activation function\n",
    "    network.add(layers.Dense(units=16, activation=\"relu\"))\n",
    "    # Add fully connected layer with a softmax activation function\n",
    "    network.add(layers.Dense(units=1, activation=\"sigmoid\"))\n",
    "    # Compile neural network\n",
    "    network.compile(loss=\"binary_crossentropy\", # Cross-entropy\n",
    "                    optimizer=\"rmsprop\", # Root Mean Square Propagation\n",
    "                    metrics=[\"accuracy\"]) # Accuracy performance metric\n",
    "    return network"
   ]
  },
  {
   "cell_type": "code",
   "execution_count": null,
   "metadata": {
    "id": "HkQalxJpMlnf"
   },
   "outputs": [],
   "source": [
    "def mlprandomsearch(X_train, y_train, hyperparameters, cv, n_iter):\n",
    "    # Wrap Keras model so it can be used by scikit-learn\n",
    "    neural_network = KerasClassifier(build_fn=create_network, verbose=0)\n",
    "    # # Create grid search\n",
    "    randomsearch = RandomizedSearchCV(estimator=neural_network, param_distributions=hyperparameters, cv=cv, verbose=3, n_iter=n_iter)\n",
    "    # # Fit grid search\n",
    "    randomsearch.fit(X_train, y_train)\n",
    "    return randomsearch, randomsearch.best_estimator_"
   ]
  },
  {
   "cell_type": "code",
   "execution_count": null,
   "metadata": {
    "id": "1dQpdlsJMnh2"
   },
   "outputs": [],
   "source": [
    "# Create hyperparameter space\n",
    "epochs = [5, 8, 10, 15, 20]\n",
    "batches = [10, 50, 100, 200, 400]\n",
    "optimizers = [\"rmsprop\", \"adam\"]\n",
    "# Create hyperparameter options\n",
    "hyperparameters = dict(optimizer=optimizers, epochs=epochs, batch_size=batches)\n",
    "number_of_features = X_train_transformed.shape[1]\n",
    "\n",
    "random_search_mlp, best_mlp = mlprandomsearch(X_train_transformed, y_train, hyperparameters, 5, 10)\n",
    "# View hyperparameters of best neural network\n",
    "print(best_mlp)"
   ]
  },
  {
   "cell_type": "code",
   "execution_count": null,
   "metadata": {
    "id": "kqgfpMYuMzxB"
   },
   "outputs": [],
   "source": [
    "# Best parameters found in RandomSearchCV {'optimizer': 'adam', 'epochs': 15, 'batch_size': 100}\n",
    "# Evaluation\n",
    "print(random_search_mlp.best_params_)\n",
    "print(best_mlp.score(X_test_transformed, y_test))\n",
    "y_predicted = best_mlp.predict(X_test_transformed)\n",
    "target_names = ['Recuperacion', 'Defuncion']\n",
    "confusion = confusion_matrix(y_test, y_predicted)\n",
    "print(classification_report(y_test, y_predicted, target_names = target_names))"
   ]
  },
  {
   "cell_type": "code",
   "execution_count": null,
   "metadata": {
    "colab": {
     "base_uri": "https://localhost:8080/"
    },
    "id": "1h53T17TmeLf",
    "outputId": "cfbedbf5-88be-4b8e-9490-87f71a6866af"
   },
   "outputs": [
    {
     "name": "stdout",
     "output_type": "stream",
     "text": [
      "Epoch 1/15\n",
      "Epoch 2/15\n",
      "Epoch 3/15\n",
      "Epoch 4/15\n",
      "Epoch 5/15\n",
      "Epoch 6/15\n",
      "Epoch 7/15\n",
      "Epoch 8/15\n",
      "Epoch 9/15\n",
      "Epoch 10/15\n",
      "Epoch 11/15\n",
      "Epoch 12/15\n",
      "Epoch 13/15\n",
      "Epoch 14/15\n",
      "Epoch 15/15\n",
      "WARNING:tensorflow:From <ipython-input-21-13b9d8468c90>:9: Sequential.predict_classes (from tensorflow.python.keras.engine.sequential) is deprecated and will be removed after 2021-01-01.\n",
      "Instructions for updating:\n",
      "Please use instead:* `np.argmax(model.predict(x), axis=-1)`,   if your model does multi-class classification   (e.g. if it uses a `softmax` last-layer activation).* `(model.predict(x) > 0.5).astype(\"int32\")`,   if your model does binary classification   (e.g. if it uses a `sigmoid` last-layer activation).\n",
      "              precision    recall  f1-score   support\n",
      "\n",
      "Recuperacion       0.94      0.87      0.90     29478\n",
      "   Defuncion       0.88      0.94      0.91     29478\n",
      "\n",
      "    accuracy                           0.90     58956\n",
      "   macro avg       0.91      0.90      0.90     58956\n",
      "weighted avg       0.91      0.90      0.90     58956\n",
      "\n"
     ]
    }
   ],
   "source": [
    "network_ran = create_network(optimizer='adam')\n",
    "history_ran = network_ran.fit(X_train_transformed, # Features\n",
    "                        y_train, # Target vector\n",
    "                        epochs=15, # Number of epochs\n",
    "                        verbose=3, # Print description after each epoch\n",
    "                        batch_size=100, # Number of observations per batch\n",
    "                        validation_data=(X_test_transformed, y_test)) # Test data\n",
    "\n",
    "y_predicted = network_ran.predict_classes(X_test_transformed)\n",
    "target_names = ['Recuperacion', 'Defuncion']\n",
    "confusion = confusion_matrix(y_test, y_predicted)\n",
    "print(classification_report(y_test, y_predicted, target_names = target_names))"
   ]
  },
  {
   "cell_type": "code",
   "execution_count": null,
   "metadata": {
    "colab": {
     "base_uri": "https://localhost:8080/"
    },
    "id": "WFYsSbqupNR5",
    "outputId": "d2588280-8e68-46d0-972e-935b0a1c2b1a"
   },
   "outputs": [
    {
     "name": "stdout",
     "output_type": "stream",
     "text": [
      "1843/1843 [==============================] - 3s 2ms/step - loss: 0.2451 - accuracy: 0.9044\n"
     ]
    },
    {
     "data": {
      "text/plain": [
       "[0.24508190155029297, 0.9043693542480469]"
      ]
     },
     "execution_count": 24,
     "metadata": {
      "tags": []
     },
     "output_type": "execute_result"
    }
   ],
   "source": [
    "network_ran.evaluate(X_test_transformed, y_test)"
   ]
  },
  {
   "cell_type": "markdown",
   "metadata": {
    "id": "qQQG-0ZYNpJ6"
   },
   "source": [
    "# **SVM Poly**"
   ]
  },
  {
   "cell_type": "code",
   "execution_count": null,
   "metadata": {
    "colab": {
     "base_uri": "https://localhost:8080/"
    },
    "id": "xioDYWouRfA4",
    "outputId": "7c1b09b7-80bd-4c88-a79e-25bd88067f02"
   },
   "outputs": [
    {
     "name": "stdout",
     "output_type": "stream",
     "text": [
      "Original shape: (137562, 188)\n",
      "Reduced shape: (137562, 59)\n"
     ]
    }
   ],
   "source": [
    "#PCA\n",
    "# select the number of components such that the amount of variance that needs to be explained is greater than the percentage specified by n_components.\n",
    "pca = PCA(n_components = 0.99)\n",
    "# fit PCA model COVID data\n",
    "pca.fit(X_train_transformed)\n",
    "# transform data onto the selected principal components\n",
    "X_pca = pca.transform(X_train_transformed)\n",
    "X_test_pca = pca.transform(X_test_transformed)\n",
    "\n",
    "print(\"Original shape: {}\".format(str(X_train_transformed.shape)))\n",
    "print(\"Reduced shape: {}\".format(str(X_pca.shape)))"
   ]
  },
  {
   "cell_type": "code",
   "execution_count": null,
   "metadata": {
    "id": "JD-Uf5bKWF9Z"
   },
   "outputs": [],
   "source": [
    "#SVM Polynomial and Random search\n",
    "\n",
    "def poly_randomsearch(X,y,nfolds,xtest,ytest):\n",
    "    # defining the random parameter range \n",
    "    Cs_rand = np.arange(0.001, 3, 0.001)\n",
    "    degrees_rand = np.arange(2, 3)\n",
    "    coefs_rand = np.arange(1, 31)\n",
    "    param_rand = {'C':Cs_rand,'degree':degrees_rand,'coef0':coefs_rand}\n",
    "\n",
    "    rand_search_svmpoly = RandomizedSearchCV(SVC(kernel='poly', gamma='auto', max_iter=30000), param_rand, cv=nfolds, refit = True, verbose = 3)\n",
    "\n",
    "    # # fitting the model for random search\n",
    "    rand_search_svmpoly.fit(X, y) \n",
    "\n",
    "    print ('On training', rand_search_svmpoly.score(X, y))\n",
    "    print ('On testing', rand_search_svmpoly.score(xtest, ytest))\n",
    "    print (rand_search_svmpoly.best_params_)\n",
    "    return rand_search_svmpoly.best_estimator_"
   ]
  },
  {
   "cell_type": "code",
   "execution_count": null,
   "metadata": {
    "id": "Bg4VITTgXJca"
   },
   "outputs": [],
   "source": [
    "best_svmpoly = poly_randomsearch(X_pca, y_train, 5, X_test_pca, y_test)"
   ]
  },
  {
   "cell_type": "code",
   "execution_count": null,
   "metadata": {
    "id": "x_RRrVvVXMcT"
   },
   "outputs": [],
   "source": [
    "# Best found params = {'degree': 2, 'coef0': 15, 'C': 1.51}\n",
    "print(best_svmpoly.score(X_test_pca, y_test))\n",
    "target_names = ['Recuperacion', 'Defuncion']\n",
    "y_pred = best_svmpoly.predict(X_test_pca)\n",
    "print(classification_report(y_test, y_pred, target_names=target_names))"
   ]
  },
  {
   "cell_type": "code",
   "execution_count": null,
   "metadata": {
    "colab": {
     "base_uri": "https://localhost:8080/"
    },
    "id": "_Vpmjd-cnJec",
    "outputId": "641cf2c4-5a83-4d37-9678-1f2936667f24"
   },
   "outputs": [
    {
     "name": "stdout",
     "output_type": "stream",
     "text": [
      "[LibSVM]0.899467399416514\n",
      "              precision    recall  f1-score   support\n",
      "\n",
      "Recuperacion       0.94      0.85      0.89     29478\n",
      "   Defuncion       0.86      0.95      0.90     29478\n",
      "\n",
      "    accuracy                           0.90     58956\n",
      "   macro avg       0.90      0.90      0.90     58956\n",
      "weighted avg       0.90      0.90      0.90     58956\n",
      "\n"
     ]
    }
   ],
   "source": [
    "svm_pca = SVC(kernel=\"poly\", degree=2, coef0=15, C=1.51, random_state=0, verbose=3)\n",
    "svm_pca.fit(X_pca, y_train)\n",
    "print(svm_pca.score(X_test_pca, y_test))\n",
    "target_names = ['Recuperacion', 'Defuncion']\n",
    "y_pred = svm_pca.predict(X_test_pca)\n",
    "print(classification_report(y_test, y_pred, target_names=target_names))"
   ]
  },
  {
   "cell_type": "markdown",
   "metadata": {
    "id": "eih4wR-HNiIo"
   },
   "source": [
    "# **SVM Linear**"
   ]
  },
  {
   "cell_type": "code",
   "execution_count": null,
   "metadata": {
    "id": "dTXlBq_Nz8el"
   },
   "outputs": [],
   "source": [
    "#Function to find the best hyperparameters of the model\n",
    "def get_best_params(X,y,nfolds,xtest,ytest):\n",
    "    # defining parameter range \n",
    "    param_grid = {'C': [0.01, 0.03, 0.1, 0.3, 1, 3, 10, 100, 1000],  \n",
    "              'loss': ['hinge', 'squared_hinge']}  \n",
    "  \n",
    "    grid_search = GridSearchCV(LinearSVC(max_iter=30000), param_grid, cv=nfolds, refit = True, verbose = 3)\n",
    "    # fitting the model for grid search \n",
    "    grid_search.fit(X, y) \n",
    "    \n",
    "#printing Errors on both partitions and also the best parameters\n",
    "    print ('On training',grid_search.score(X,y))\n",
    "    print ('On testing', grid_search.score(xtest,ytest))\n",
    "    print (grid_search.best_params_)\n",
    "    return grid_search.best_estimator_"
   ]
  },
  {
   "cell_type": "code",
   "execution_count": null,
   "metadata": {
    "id": "2hKzMXk1loIf"
   },
   "outputs": [],
   "source": [
    "best = get_best_params(X_train_transformed, y_train, 5, X_test_transformed, y_test)"
   ]
  },
  {
   "cell_type": "code",
   "execution_count": null,
   "metadata": {
    "id": "zwRbPCcjmQv0"
   },
   "outputs": [],
   "source": [
    "print(best)\n",
    "print(best.score(X_test_transformed, y_test))\n",
    "# Best params found in GridSearchCV = {'C': 1, 'loss': 'hinge'}\n",
    "target_names = ['Recuperacion', 'Defuncion']\n",
    "y_pred = best.predict(X_test_transformed)\n",
    "print(classification_report(y_test, y_pred, target_names=target_names))"
   ]
  },
  {
   "cell_type": "code",
   "execution_count": null,
   "metadata": {
    "colab": {
     "base_uri": "https://localhost:8080/"
    },
    "id": "3Qwu-N8anYrF",
    "outputId": "67d82613-c5ee-4c08-aded-07e065af0c09"
   },
   "outputs": [
    {
     "name": "stdout",
     "output_type": "stream",
     "text": [
      "[LibLinear]0.8946841712463532\n",
      "              precision    recall  f1-score   support\n",
      "\n",
      "Recuperacion       0.92      0.86      0.89     29478\n",
      "   Defuncion       0.87      0.93      0.90     29478\n",
      "\n",
      "    accuracy                           0.89     58956\n",
      "   macro avg       0.90      0.89      0.89     58956\n",
      "weighted avg       0.90      0.89      0.89     58956\n",
      "\n"
     ]
    },
    {
     "name": "stderr",
     "output_type": "stream",
     "text": [
      "/usr/local/lib/python3.6/dist-packages/sklearn/svm/_base.py:947: ConvergenceWarning: Liblinear failed to converge, increase the number of iterations.\n",
      "  \"the number of iterations.\", ConvergenceWarning)\n"
     ]
    }
   ],
   "source": [
    "svm_linear = LinearSVC(C=1, loss='hinge', verbose=3)\n",
    "svm_linear.fit(X_train_transformed, y_train)\n",
    "print(svm_linear.score(X_test_transformed, y_test))\n",
    "target_names = ['Recuperacion', 'Defuncion']\n",
    "y_pred = svm_linear.predict(X_test_transformed)\n",
    "print(classification_report(y_test, y_pred, target_names=target_names))"
   ]
  },
  {
   "cell_type": "markdown",
   "metadata": {
    "id": "Zbo1wgzHRIdQ"
   },
   "source": [
    "# **Random Forest**"
   ]
  },
  {
   "cell_type": "code",
   "execution_count": null,
   "metadata": {
    "id": "gA5KX7lvXXzZ"
   },
   "outputs": [],
   "source": [
    "# Hyperparameter space\n",
    "parameters_grid = {\n",
    "    'n_estimators': np.arange(100, 300, 10),\n",
    "    'max_features': ['auto', 'sqrt', 'log2'],\n",
    "    'max_depth': [None, 3, 5, 10, 15],\n",
    "    'min_samples_split': [10, 20, 50, 100],\n",
    "    'min_samples_leaf': [5, 10, 25, 50]\n",
    "}"
   ]
  },
  {
   "cell_type": "code",
   "execution_count": null,
   "metadata": {
    "colab": {
     "base_uri": "https://localhost:8080/",
     "height": 1000
    },
    "id": "AdI2cbz6ao6O",
    "outputId": "6348b1f7-4726-48a6-9895-d678800d40ba"
   },
   "outputs": [
    {
     "ename": "KeyboardInterrupt",
     "evalue": "ignored",
     "output_type": "error",
     "traceback": [
      "\u001b[0;31m---------------------------------------------------------------------------\u001b[0m",
      "\u001b[0;31mKeyboardInterrupt\u001b[0m                         Traceback (most recent call last)",
      "\u001b[0;32m<ipython-input-94-c18fe3584657>\u001b[0m in \u001b[0;36m<module>\u001b[0;34m()\u001b[0m\n\u001b[1;32m      1\u001b[0m \u001b[0;31m# Randomized search\u001b[0m\u001b[0;34m\u001b[0m\u001b[0;34m\u001b[0m\u001b[0;34m\u001b[0m\u001b[0m\n\u001b[1;32m      2\u001b[0m \u001b[0mrandom_search\u001b[0m \u001b[0;34m=\u001b[0m \u001b[0mRandomizedSearchCV\u001b[0m\u001b[0;34m(\u001b[0m\u001b[0mRandomForestClassifier\u001b[0m\u001b[0;34m(\u001b[0m\u001b[0mn_jobs\u001b[0m\u001b[0;34m=\u001b[0m\u001b[0;34m-\u001b[0m\u001b[0;36m1\u001b[0m\u001b[0;34m)\u001b[0m\u001b[0;34m,\u001b[0m \u001b[0mparam_distributions\u001b[0m\u001b[0;34m=\u001b[0m\u001b[0mparameters_grid\u001b[0m\u001b[0;34m,\u001b[0m \u001b[0mn_iter\u001b[0m\u001b[0;34m=\u001b[0m\u001b[0;36m10\u001b[0m\u001b[0;34m,\u001b[0m \u001b[0mcv\u001b[0m\u001b[0;34m=\u001b[0m\u001b[0;36m5\u001b[0m\u001b[0;34m,\u001b[0m \u001b[0mrefit\u001b[0m\u001b[0;34m=\u001b[0m\u001b[0;32mTrue\u001b[0m\u001b[0;34m)\u001b[0m\u001b[0;34m\u001b[0m\u001b[0;34m\u001b[0m\u001b[0m\n\u001b[0;32m----> 3\u001b[0;31m \u001b[0mrandom_search\u001b[0m\u001b[0;34m.\u001b[0m\u001b[0mfit\u001b[0m\u001b[0;34m(\u001b[0m\u001b[0mX_train_transformed\u001b[0m\u001b[0;34m,\u001b[0m \u001b[0my_train\u001b[0m\u001b[0;34m)\u001b[0m\u001b[0;34m\u001b[0m\u001b[0;34m\u001b[0m\u001b[0m\n\u001b[0m",
      "\u001b[0;32m/usr/local/lib/python3.6/dist-packages/sklearn/model_selection/_search.py\u001b[0m in \u001b[0;36mfit\u001b[0;34m(self, X, y, groups, **fit_params)\u001b[0m\n\u001b[1;32m    708\u001b[0m                 \u001b[0;32mreturn\u001b[0m \u001b[0mresults\u001b[0m\u001b[0;34m\u001b[0m\u001b[0;34m\u001b[0m\u001b[0m\n\u001b[1;32m    709\u001b[0m \u001b[0;34m\u001b[0m\u001b[0m\n\u001b[0;32m--> 710\u001b[0;31m             \u001b[0mself\u001b[0m\u001b[0;34m.\u001b[0m\u001b[0m_run_search\u001b[0m\u001b[0;34m(\u001b[0m\u001b[0mevaluate_candidates\u001b[0m\u001b[0;34m)\u001b[0m\u001b[0;34m\u001b[0m\u001b[0;34m\u001b[0m\u001b[0m\n\u001b[0m\u001b[1;32m    711\u001b[0m \u001b[0;34m\u001b[0m\u001b[0m\n\u001b[1;32m    712\u001b[0m         \u001b[0;31m# For multi-metric evaluation, store the best_index_, best_params_ and\u001b[0m\u001b[0;34m\u001b[0m\u001b[0;34m\u001b[0m\u001b[0;34m\u001b[0m\u001b[0m\n",
      "\u001b[0;32m/usr/local/lib/python3.6/dist-packages/sklearn/model_selection/_search.py\u001b[0m in \u001b[0;36m_run_search\u001b[0;34m(self, evaluate_candidates)\u001b[0m\n\u001b[1;32m   1482\u001b[0m         evaluate_candidates(ParameterSampler(\n\u001b[1;32m   1483\u001b[0m             \u001b[0mself\u001b[0m\u001b[0;34m.\u001b[0m\u001b[0mparam_distributions\u001b[0m\u001b[0;34m,\u001b[0m \u001b[0mself\u001b[0m\u001b[0;34m.\u001b[0m\u001b[0mn_iter\u001b[0m\u001b[0;34m,\u001b[0m\u001b[0;34m\u001b[0m\u001b[0;34m\u001b[0m\u001b[0m\n\u001b[0;32m-> 1484\u001b[0;31m             random_state=self.random_state))\n\u001b[0m",
      "\u001b[0;32m/usr/local/lib/python3.6/dist-packages/sklearn/model_selection/_search.py\u001b[0m in \u001b[0;36mevaluate_candidates\u001b[0;34m(candidate_params)\u001b[0m\n\u001b[1;32m    687\u001b[0m                                \u001b[0;32mfor\u001b[0m \u001b[0mparameters\u001b[0m\u001b[0;34m,\u001b[0m \u001b[0;34m(\u001b[0m\u001b[0mtrain\u001b[0m\u001b[0;34m,\u001b[0m \u001b[0mtest\u001b[0m\u001b[0;34m)\u001b[0m\u001b[0;34m\u001b[0m\u001b[0;34m\u001b[0m\u001b[0m\n\u001b[1;32m    688\u001b[0m                                in product(candidate_params,\n\u001b[0;32m--> 689\u001b[0;31m                                           cv.split(X, y, groups)))\n\u001b[0m\u001b[1;32m    690\u001b[0m \u001b[0;34m\u001b[0m\u001b[0m\n\u001b[1;32m    691\u001b[0m                 \u001b[0;32mif\u001b[0m \u001b[0mlen\u001b[0m\u001b[0;34m(\u001b[0m\u001b[0mout\u001b[0m\u001b[0;34m)\u001b[0m \u001b[0;34m<\u001b[0m \u001b[0;36m1\u001b[0m\u001b[0;34m:\u001b[0m\u001b[0;34m\u001b[0m\u001b[0;34m\u001b[0m\u001b[0m\n",
      "\u001b[0;32m/usr/local/lib/python3.6/dist-packages/joblib/parallel.py\u001b[0m in \u001b[0;36m__call__\u001b[0;34m(self, iterable)\u001b[0m\n\u001b[1;32m   1046\u001b[0m             \u001b[0;31m# remaining jobs.\u001b[0m\u001b[0;34m\u001b[0m\u001b[0;34m\u001b[0m\u001b[0;34m\u001b[0m\u001b[0m\n\u001b[1;32m   1047\u001b[0m             \u001b[0mself\u001b[0m\u001b[0;34m.\u001b[0m\u001b[0m_iterating\u001b[0m \u001b[0;34m=\u001b[0m \u001b[0;32mFalse\u001b[0m\u001b[0;34m\u001b[0m\u001b[0;34m\u001b[0m\u001b[0m\n\u001b[0;32m-> 1048\u001b[0;31m             \u001b[0;32mif\u001b[0m \u001b[0mself\u001b[0m\u001b[0;34m.\u001b[0m\u001b[0mdispatch_one_batch\u001b[0m\u001b[0;34m(\u001b[0m\u001b[0miterator\u001b[0m\u001b[0;34m)\u001b[0m\u001b[0;34m:\u001b[0m\u001b[0;34m\u001b[0m\u001b[0;34m\u001b[0m\u001b[0m\n\u001b[0m\u001b[1;32m   1049\u001b[0m                 \u001b[0mself\u001b[0m\u001b[0;34m.\u001b[0m\u001b[0m_iterating\u001b[0m \u001b[0;34m=\u001b[0m \u001b[0mself\u001b[0m\u001b[0;34m.\u001b[0m\u001b[0m_original_iterator\u001b[0m \u001b[0;32mis\u001b[0m \u001b[0;32mnot\u001b[0m \u001b[0;32mNone\u001b[0m\u001b[0;34m\u001b[0m\u001b[0;34m\u001b[0m\u001b[0m\n\u001b[1;32m   1050\u001b[0m \u001b[0;34m\u001b[0m\u001b[0m\n",
      "\u001b[0;32m/usr/local/lib/python3.6/dist-packages/joblib/parallel.py\u001b[0m in \u001b[0;36mdispatch_one_batch\u001b[0;34m(self, iterator)\u001b[0m\n\u001b[1;32m    864\u001b[0m                 \u001b[0;32mreturn\u001b[0m \u001b[0;32mFalse\u001b[0m\u001b[0;34m\u001b[0m\u001b[0;34m\u001b[0m\u001b[0m\n\u001b[1;32m    865\u001b[0m             \u001b[0;32melse\u001b[0m\u001b[0;34m:\u001b[0m\u001b[0;34m\u001b[0m\u001b[0;34m\u001b[0m\u001b[0m\n\u001b[0;32m--> 866\u001b[0;31m                 \u001b[0mself\u001b[0m\u001b[0;34m.\u001b[0m\u001b[0m_dispatch\u001b[0m\u001b[0;34m(\u001b[0m\u001b[0mtasks\u001b[0m\u001b[0;34m)\u001b[0m\u001b[0;34m\u001b[0m\u001b[0;34m\u001b[0m\u001b[0m\n\u001b[0m\u001b[1;32m    867\u001b[0m                 \u001b[0;32mreturn\u001b[0m \u001b[0;32mTrue\u001b[0m\u001b[0;34m\u001b[0m\u001b[0;34m\u001b[0m\u001b[0m\n\u001b[1;32m    868\u001b[0m \u001b[0;34m\u001b[0m\u001b[0m\n",
      "\u001b[0;32m/usr/local/lib/python3.6/dist-packages/joblib/parallel.py\u001b[0m in \u001b[0;36m_dispatch\u001b[0;34m(self, batch)\u001b[0m\n\u001b[1;32m    782\u001b[0m         \u001b[0;32mwith\u001b[0m \u001b[0mself\u001b[0m\u001b[0;34m.\u001b[0m\u001b[0m_lock\u001b[0m\u001b[0;34m:\u001b[0m\u001b[0;34m\u001b[0m\u001b[0;34m\u001b[0m\u001b[0m\n\u001b[1;32m    783\u001b[0m             \u001b[0mjob_idx\u001b[0m \u001b[0;34m=\u001b[0m \u001b[0mlen\u001b[0m\u001b[0;34m(\u001b[0m\u001b[0mself\u001b[0m\u001b[0;34m.\u001b[0m\u001b[0m_jobs\u001b[0m\u001b[0;34m)\u001b[0m\u001b[0;34m\u001b[0m\u001b[0;34m\u001b[0m\u001b[0m\n\u001b[0;32m--> 784\u001b[0;31m             \u001b[0mjob\u001b[0m \u001b[0;34m=\u001b[0m \u001b[0mself\u001b[0m\u001b[0;34m.\u001b[0m\u001b[0m_backend\u001b[0m\u001b[0;34m.\u001b[0m\u001b[0mapply_async\u001b[0m\u001b[0;34m(\u001b[0m\u001b[0mbatch\u001b[0m\u001b[0;34m,\u001b[0m \u001b[0mcallback\u001b[0m\u001b[0;34m=\u001b[0m\u001b[0mcb\u001b[0m\u001b[0;34m)\u001b[0m\u001b[0;34m\u001b[0m\u001b[0;34m\u001b[0m\u001b[0m\n\u001b[0m\u001b[1;32m    785\u001b[0m             \u001b[0;31m# A job can complete so quickly than its callback is\u001b[0m\u001b[0;34m\u001b[0m\u001b[0;34m\u001b[0m\u001b[0;34m\u001b[0m\u001b[0m\n\u001b[1;32m    786\u001b[0m             \u001b[0;31m# called before we get here, causing self._jobs to\u001b[0m\u001b[0;34m\u001b[0m\u001b[0;34m\u001b[0m\u001b[0;34m\u001b[0m\u001b[0m\n",
      "\u001b[0;32m/usr/local/lib/python3.6/dist-packages/joblib/_parallel_backends.py\u001b[0m in \u001b[0;36mapply_async\u001b[0;34m(self, func, callback)\u001b[0m\n\u001b[1;32m    206\u001b[0m     \u001b[0;32mdef\u001b[0m \u001b[0mapply_async\u001b[0m\u001b[0;34m(\u001b[0m\u001b[0mself\u001b[0m\u001b[0;34m,\u001b[0m \u001b[0mfunc\u001b[0m\u001b[0;34m,\u001b[0m \u001b[0mcallback\u001b[0m\u001b[0;34m=\u001b[0m\u001b[0;32mNone\u001b[0m\u001b[0;34m)\u001b[0m\u001b[0;34m:\u001b[0m\u001b[0;34m\u001b[0m\u001b[0;34m\u001b[0m\u001b[0m\n\u001b[1;32m    207\u001b[0m         \u001b[0;34m\"\"\"Schedule a func to be run\"\"\"\u001b[0m\u001b[0;34m\u001b[0m\u001b[0;34m\u001b[0m\u001b[0m\n\u001b[0;32m--> 208\u001b[0;31m         \u001b[0mresult\u001b[0m \u001b[0;34m=\u001b[0m \u001b[0mImmediateResult\u001b[0m\u001b[0;34m(\u001b[0m\u001b[0mfunc\u001b[0m\u001b[0;34m)\u001b[0m\u001b[0;34m\u001b[0m\u001b[0;34m\u001b[0m\u001b[0m\n\u001b[0m\u001b[1;32m    209\u001b[0m         \u001b[0;32mif\u001b[0m \u001b[0mcallback\u001b[0m\u001b[0;34m:\u001b[0m\u001b[0;34m\u001b[0m\u001b[0;34m\u001b[0m\u001b[0m\n\u001b[1;32m    210\u001b[0m             \u001b[0mcallback\u001b[0m\u001b[0;34m(\u001b[0m\u001b[0mresult\u001b[0m\u001b[0;34m)\u001b[0m\u001b[0;34m\u001b[0m\u001b[0;34m\u001b[0m\u001b[0m\n",
      "\u001b[0;32m/usr/local/lib/python3.6/dist-packages/joblib/_parallel_backends.py\u001b[0m in \u001b[0;36m__init__\u001b[0;34m(self, batch)\u001b[0m\n\u001b[1;32m    570\u001b[0m         \u001b[0;31m# Don't delay the application, to avoid keeping the input\u001b[0m\u001b[0;34m\u001b[0m\u001b[0;34m\u001b[0m\u001b[0;34m\u001b[0m\u001b[0m\n\u001b[1;32m    571\u001b[0m         \u001b[0;31m# arguments in memory\u001b[0m\u001b[0;34m\u001b[0m\u001b[0;34m\u001b[0m\u001b[0;34m\u001b[0m\u001b[0m\n\u001b[0;32m--> 572\u001b[0;31m         \u001b[0mself\u001b[0m\u001b[0;34m.\u001b[0m\u001b[0mresults\u001b[0m \u001b[0;34m=\u001b[0m \u001b[0mbatch\u001b[0m\u001b[0;34m(\u001b[0m\u001b[0;34m)\u001b[0m\u001b[0;34m\u001b[0m\u001b[0;34m\u001b[0m\u001b[0m\n\u001b[0m\u001b[1;32m    573\u001b[0m \u001b[0;34m\u001b[0m\u001b[0m\n\u001b[1;32m    574\u001b[0m     \u001b[0;32mdef\u001b[0m \u001b[0mget\u001b[0m\u001b[0;34m(\u001b[0m\u001b[0mself\u001b[0m\u001b[0;34m)\u001b[0m\u001b[0;34m:\u001b[0m\u001b[0;34m\u001b[0m\u001b[0;34m\u001b[0m\u001b[0m\n",
      "\u001b[0;32m/usr/local/lib/python3.6/dist-packages/joblib/parallel.py\u001b[0m in \u001b[0;36m__call__\u001b[0;34m(self)\u001b[0m\n\u001b[1;32m    261\u001b[0m         \u001b[0;32mwith\u001b[0m \u001b[0mparallel_backend\u001b[0m\u001b[0;34m(\u001b[0m\u001b[0mself\u001b[0m\u001b[0;34m.\u001b[0m\u001b[0m_backend\u001b[0m\u001b[0;34m,\u001b[0m \u001b[0mn_jobs\u001b[0m\u001b[0;34m=\u001b[0m\u001b[0mself\u001b[0m\u001b[0;34m.\u001b[0m\u001b[0m_n_jobs\u001b[0m\u001b[0;34m)\u001b[0m\u001b[0;34m:\u001b[0m\u001b[0;34m\u001b[0m\u001b[0;34m\u001b[0m\u001b[0m\n\u001b[1;32m    262\u001b[0m             return [func(*args, **kwargs)\n\u001b[0;32m--> 263\u001b[0;31m                     for func, args, kwargs in self.items]\n\u001b[0m\u001b[1;32m    264\u001b[0m \u001b[0;34m\u001b[0m\u001b[0m\n\u001b[1;32m    265\u001b[0m     \u001b[0;32mdef\u001b[0m \u001b[0m__reduce__\u001b[0m\u001b[0;34m(\u001b[0m\u001b[0mself\u001b[0m\u001b[0;34m)\u001b[0m\u001b[0;34m:\u001b[0m\u001b[0;34m\u001b[0m\u001b[0;34m\u001b[0m\u001b[0m\n",
      "\u001b[0;32m/usr/local/lib/python3.6/dist-packages/joblib/parallel.py\u001b[0m in \u001b[0;36m<listcomp>\u001b[0;34m(.0)\u001b[0m\n\u001b[1;32m    261\u001b[0m         \u001b[0;32mwith\u001b[0m \u001b[0mparallel_backend\u001b[0m\u001b[0;34m(\u001b[0m\u001b[0mself\u001b[0m\u001b[0;34m.\u001b[0m\u001b[0m_backend\u001b[0m\u001b[0;34m,\u001b[0m \u001b[0mn_jobs\u001b[0m\u001b[0;34m=\u001b[0m\u001b[0mself\u001b[0m\u001b[0;34m.\u001b[0m\u001b[0m_n_jobs\u001b[0m\u001b[0;34m)\u001b[0m\u001b[0;34m:\u001b[0m\u001b[0;34m\u001b[0m\u001b[0;34m\u001b[0m\u001b[0m\n\u001b[1;32m    262\u001b[0m             return [func(*args, **kwargs)\n\u001b[0;32m--> 263\u001b[0;31m                     for func, args, kwargs in self.items]\n\u001b[0m\u001b[1;32m    264\u001b[0m \u001b[0;34m\u001b[0m\u001b[0m\n\u001b[1;32m    265\u001b[0m     \u001b[0;32mdef\u001b[0m \u001b[0m__reduce__\u001b[0m\u001b[0;34m(\u001b[0m\u001b[0mself\u001b[0m\u001b[0;34m)\u001b[0m\u001b[0;34m:\u001b[0m\u001b[0;34m\u001b[0m\u001b[0;34m\u001b[0m\u001b[0m\n",
      "\u001b[0;32m/usr/local/lib/python3.6/dist-packages/sklearn/model_selection/_validation.py\u001b[0m in \u001b[0;36m_fit_and_score\u001b[0;34m(estimator, X, y, scorer, train, test, verbose, parameters, fit_params, return_train_score, return_parameters, return_n_test_samples, return_times, return_estimator, error_score)\u001b[0m\n\u001b[1;32m    513\u001b[0m             \u001b[0mestimator\u001b[0m\u001b[0;34m.\u001b[0m\u001b[0mfit\u001b[0m\u001b[0;34m(\u001b[0m\u001b[0mX_train\u001b[0m\u001b[0;34m,\u001b[0m \u001b[0;34m**\u001b[0m\u001b[0mfit_params\u001b[0m\u001b[0;34m)\u001b[0m\u001b[0;34m\u001b[0m\u001b[0;34m\u001b[0m\u001b[0m\n\u001b[1;32m    514\u001b[0m         \u001b[0;32melse\u001b[0m\u001b[0;34m:\u001b[0m\u001b[0;34m\u001b[0m\u001b[0;34m\u001b[0m\u001b[0m\n\u001b[0;32m--> 515\u001b[0;31m             \u001b[0mestimator\u001b[0m\u001b[0;34m.\u001b[0m\u001b[0mfit\u001b[0m\u001b[0;34m(\u001b[0m\u001b[0mX_train\u001b[0m\u001b[0;34m,\u001b[0m \u001b[0my_train\u001b[0m\u001b[0;34m,\u001b[0m \u001b[0;34m**\u001b[0m\u001b[0mfit_params\u001b[0m\u001b[0;34m)\u001b[0m\u001b[0;34m\u001b[0m\u001b[0;34m\u001b[0m\u001b[0m\n\u001b[0m\u001b[1;32m    516\u001b[0m \u001b[0;34m\u001b[0m\u001b[0m\n\u001b[1;32m    517\u001b[0m     \u001b[0;32mexcept\u001b[0m \u001b[0mException\u001b[0m \u001b[0;32mas\u001b[0m \u001b[0me\u001b[0m\u001b[0;34m:\u001b[0m\u001b[0;34m\u001b[0m\u001b[0;34m\u001b[0m\u001b[0m\n",
      "\u001b[0;32m/usr/local/lib/python3.6/dist-packages/sklearn/ensemble/_forest.py\u001b[0m in \u001b[0;36mfit\u001b[0;34m(self, X, y, sample_weight)\u001b[0m\n\u001b[1;32m    381\u001b[0m                     \u001b[0mverbose\u001b[0m\u001b[0;34m=\u001b[0m\u001b[0mself\u001b[0m\u001b[0;34m.\u001b[0m\u001b[0mverbose\u001b[0m\u001b[0;34m,\u001b[0m \u001b[0mclass_weight\u001b[0m\u001b[0;34m=\u001b[0m\u001b[0mself\u001b[0m\u001b[0;34m.\u001b[0m\u001b[0mclass_weight\u001b[0m\u001b[0;34m,\u001b[0m\u001b[0;34m\u001b[0m\u001b[0;34m\u001b[0m\u001b[0m\n\u001b[1;32m    382\u001b[0m                     n_samples_bootstrap=n_samples_bootstrap)\n\u001b[0;32m--> 383\u001b[0;31m                 for i, t in enumerate(trees))\n\u001b[0m\u001b[1;32m    384\u001b[0m \u001b[0;34m\u001b[0m\u001b[0m\n\u001b[1;32m    385\u001b[0m             \u001b[0;31m# Collect newly grown trees\u001b[0m\u001b[0;34m\u001b[0m\u001b[0;34m\u001b[0m\u001b[0;34m\u001b[0m\u001b[0m\n",
      "\u001b[0;32m/usr/local/lib/python3.6/dist-packages/joblib/parallel.py\u001b[0m in \u001b[0;36m__call__\u001b[0;34m(self, iterable)\u001b[0m\n\u001b[1;32m   1059\u001b[0m \u001b[0;34m\u001b[0m\u001b[0m\n\u001b[1;32m   1060\u001b[0m             \u001b[0;32mwith\u001b[0m \u001b[0mself\u001b[0m\u001b[0;34m.\u001b[0m\u001b[0m_backend\u001b[0m\u001b[0;34m.\u001b[0m\u001b[0mretrieval_context\u001b[0m\u001b[0;34m(\u001b[0m\u001b[0;34m)\u001b[0m\u001b[0;34m:\u001b[0m\u001b[0;34m\u001b[0m\u001b[0;34m\u001b[0m\u001b[0m\n\u001b[0;32m-> 1061\u001b[0;31m                 \u001b[0mself\u001b[0m\u001b[0;34m.\u001b[0m\u001b[0mretrieve\u001b[0m\u001b[0;34m(\u001b[0m\u001b[0;34m)\u001b[0m\u001b[0;34m\u001b[0m\u001b[0;34m\u001b[0m\u001b[0m\n\u001b[0m\u001b[1;32m   1062\u001b[0m             \u001b[0;31m# Make sure that we get a last message telling us we are done\u001b[0m\u001b[0;34m\u001b[0m\u001b[0;34m\u001b[0m\u001b[0;34m\u001b[0m\u001b[0m\n\u001b[1;32m   1063\u001b[0m             \u001b[0melapsed_time\u001b[0m \u001b[0;34m=\u001b[0m \u001b[0mtime\u001b[0m\u001b[0;34m.\u001b[0m\u001b[0mtime\u001b[0m\u001b[0;34m(\u001b[0m\u001b[0;34m)\u001b[0m \u001b[0;34m-\u001b[0m \u001b[0mself\u001b[0m\u001b[0;34m.\u001b[0m\u001b[0m_start_time\u001b[0m\u001b[0;34m\u001b[0m\u001b[0;34m\u001b[0m\u001b[0m\n",
      "\u001b[0;32m/usr/local/lib/python3.6/dist-packages/joblib/parallel.py\u001b[0m in \u001b[0;36mretrieve\u001b[0;34m(self)\u001b[0m\n\u001b[1;32m    938\u001b[0m             \u001b[0;32mtry\u001b[0m\u001b[0;34m:\u001b[0m\u001b[0;34m\u001b[0m\u001b[0;34m\u001b[0m\u001b[0m\n\u001b[1;32m    939\u001b[0m                 \u001b[0;32mif\u001b[0m \u001b[0mgetattr\u001b[0m\u001b[0;34m(\u001b[0m\u001b[0mself\u001b[0m\u001b[0;34m.\u001b[0m\u001b[0m_backend\u001b[0m\u001b[0;34m,\u001b[0m \u001b[0;34m'supports_timeout'\u001b[0m\u001b[0;34m,\u001b[0m \u001b[0;32mFalse\u001b[0m\u001b[0;34m)\u001b[0m\u001b[0;34m:\u001b[0m\u001b[0;34m\u001b[0m\u001b[0;34m\u001b[0m\u001b[0m\n\u001b[0;32m--> 940\u001b[0;31m                     \u001b[0mself\u001b[0m\u001b[0;34m.\u001b[0m\u001b[0m_output\u001b[0m\u001b[0;34m.\u001b[0m\u001b[0mextend\u001b[0m\u001b[0;34m(\u001b[0m\u001b[0mjob\u001b[0m\u001b[0;34m.\u001b[0m\u001b[0mget\u001b[0m\u001b[0;34m(\u001b[0m\u001b[0mtimeout\u001b[0m\u001b[0;34m=\u001b[0m\u001b[0mself\u001b[0m\u001b[0;34m.\u001b[0m\u001b[0mtimeout\u001b[0m\u001b[0;34m)\u001b[0m\u001b[0;34m)\u001b[0m\u001b[0;34m\u001b[0m\u001b[0;34m\u001b[0m\u001b[0m\n\u001b[0m\u001b[1;32m    941\u001b[0m                 \u001b[0;32melse\u001b[0m\u001b[0;34m:\u001b[0m\u001b[0;34m\u001b[0m\u001b[0;34m\u001b[0m\u001b[0m\n\u001b[1;32m    942\u001b[0m                     \u001b[0mself\u001b[0m\u001b[0;34m.\u001b[0m\u001b[0m_output\u001b[0m\u001b[0;34m.\u001b[0m\u001b[0mextend\u001b[0m\u001b[0;34m(\u001b[0m\u001b[0mjob\u001b[0m\u001b[0;34m.\u001b[0m\u001b[0mget\u001b[0m\u001b[0;34m(\u001b[0m\u001b[0;34m)\u001b[0m\u001b[0;34m)\u001b[0m\u001b[0;34m\u001b[0m\u001b[0;34m\u001b[0m\u001b[0m\n",
      "\u001b[0;32m/usr/local/lib/python3.6/dist-packages/joblib/_parallel_backends.py\u001b[0m in \u001b[0;36mwrap_future_result\u001b[0;34m(future, timeout)\u001b[0m\n\u001b[1;32m    540\u001b[0m         AsyncResults.get from multiprocessing.\"\"\"\n\u001b[1;32m    541\u001b[0m         \u001b[0;32mtry\u001b[0m\u001b[0;34m:\u001b[0m\u001b[0;34m\u001b[0m\u001b[0;34m\u001b[0m\u001b[0m\n\u001b[0;32m--> 542\u001b[0;31m             \u001b[0;32mreturn\u001b[0m \u001b[0mfuture\u001b[0m\u001b[0;34m.\u001b[0m\u001b[0mresult\u001b[0m\u001b[0;34m(\u001b[0m\u001b[0mtimeout\u001b[0m\u001b[0;34m=\u001b[0m\u001b[0mtimeout\u001b[0m\u001b[0;34m)\u001b[0m\u001b[0;34m\u001b[0m\u001b[0;34m\u001b[0m\u001b[0m\n\u001b[0m\u001b[1;32m    543\u001b[0m         \u001b[0;32mexcept\u001b[0m \u001b[0mCfTimeoutError\u001b[0m \u001b[0;32mas\u001b[0m \u001b[0me\u001b[0m\u001b[0;34m:\u001b[0m\u001b[0;34m\u001b[0m\u001b[0;34m\u001b[0m\u001b[0m\n\u001b[1;32m    544\u001b[0m             \u001b[0;32mraise\u001b[0m \u001b[0mTimeoutError\u001b[0m \u001b[0;32mfrom\u001b[0m \u001b[0me\u001b[0m\u001b[0;34m\u001b[0m\u001b[0;34m\u001b[0m\u001b[0m\n",
      "\u001b[0;32m/usr/lib/python3.6/concurrent/futures/_base.py\u001b[0m in \u001b[0;36mresult\u001b[0;34m(self, timeout)\u001b[0m\n\u001b[1;32m    425\u001b[0m                 \u001b[0;32mreturn\u001b[0m \u001b[0mself\u001b[0m\u001b[0;34m.\u001b[0m\u001b[0m__get_result\u001b[0m\u001b[0;34m(\u001b[0m\u001b[0;34m)\u001b[0m\u001b[0;34m\u001b[0m\u001b[0;34m\u001b[0m\u001b[0m\n\u001b[1;32m    426\u001b[0m \u001b[0;34m\u001b[0m\u001b[0m\n\u001b[0;32m--> 427\u001b[0;31m             \u001b[0mself\u001b[0m\u001b[0;34m.\u001b[0m\u001b[0m_condition\u001b[0m\u001b[0;34m.\u001b[0m\u001b[0mwait\u001b[0m\u001b[0;34m(\u001b[0m\u001b[0mtimeout\u001b[0m\u001b[0;34m)\u001b[0m\u001b[0;34m\u001b[0m\u001b[0;34m\u001b[0m\u001b[0m\n\u001b[0m\u001b[1;32m    428\u001b[0m \u001b[0;34m\u001b[0m\u001b[0m\n\u001b[1;32m    429\u001b[0m             \u001b[0;32mif\u001b[0m \u001b[0mself\u001b[0m\u001b[0;34m.\u001b[0m\u001b[0m_state\u001b[0m \u001b[0;32min\u001b[0m \u001b[0;34m[\u001b[0m\u001b[0mCANCELLED\u001b[0m\u001b[0;34m,\u001b[0m \u001b[0mCANCELLED_AND_NOTIFIED\u001b[0m\u001b[0;34m]\u001b[0m\u001b[0;34m:\u001b[0m\u001b[0;34m\u001b[0m\u001b[0;34m\u001b[0m\u001b[0m\n",
      "\u001b[0;32m/usr/lib/python3.6/threading.py\u001b[0m in \u001b[0;36mwait\u001b[0;34m(self, timeout)\u001b[0m\n\u001b[1;32m    293\u001b[0m         \u001b[0;32mtry\u001b[0m\u001b[0;34m:\u001b[0m    \u001b[0;31m# restore state no matter what (e.g., KeyboardInterrupt)\u001b[0m\u001b[0;34m\u001b[0m\u001b[0;34m\u001b[0m\u001b[0m\n\u001b[1;32m    294\u001b[0m             \u001b[0;32mif\u001b[0m \u001b[0mtimeout\u001b[0m \u001b[0;32mis\u001b[0m \u001b[0;32mNone\u001b[0m\u001b[0;34m:\u001b[0m\u001b[0;34m\u001b[0m\u001b[0;34m\u001b[0m\u001b[0m\n\u001b[0;32m--> 295\u001b[0;31m                 \u001b[0mwaiter\u001b[0m\u001b[0;34m.\u001b[0m\u001b[0macquire\u001b[0m\u001b[0;34m(\u001b[0m\u001b[0;34m)\u001b[0m\u001b[0;34m\u001b[0m\u001b[0;34m\u001b[0m\u001b[0m\n\u001b[0m\u001b[1;32m    296\u001b[0m                 \u001b[0mgotit\u001b[0m \u001b[0;34m=\u001b[0m \u001b[0;32mTrue\u001b[0m\u001b[0;34m\u001b[0m\u001b[0;34m\u001b[0m\u001b[0m\n\u001b[1;32m    297\u001b[0m             \u001b[0;32melse\u001b[0m\u001b[0;34m:\u001b[0m\u001b[0;34m\u001b[0m\u001b[0;34m\u001b[0m\u001b[0m\n",
      "\u001b[0;31mKeyboardInterrupt\u001b[0m: "
     ]
    }
   ],
   "source": [
    "# Randomized search\n",
    "random_search = RandomizedSearchCV(RandomForestClassifier(n_jobs=-1), param_distributions=parameters_grid, n_iter=10, cv=5, refit=True)\n",
    "random_search.fit(X_train_transformed, y_train)"
   ]
  },
  {
   "cell_type": "code",
   "execution_count": null,
   "metadata": {
    "colab": {
     "base_uri": "https://localhost:8080/"
    },
    "id": "cs_ylDlhuIyg",
    "outputId": "00fac53f-79a0-44ee-a43c-c83560a91bed"
   },
   "outputs": [
    {
     "name": "stdout",
     "output_type": "stream",
     "text": [
      "{'n_estimators': 120, 'min_samples_split': 20, 'min_samples_leaf': 10, 'max_features': 'sqrt', 'max_depth': None}\n"
     ]
    }
   ],
   "source": [
    "# Print the best parameters found\n",
    "print(random_search.best_params_)"
   ]
  },
  {
   "cell_type": "code",
   "execution_count": null,
   "metadata": {
    "colab": {
     "base_uri": "https://localhost:8080/"
    },
    "id": "5YGYA1P6bgQK",
    "outputId": "d8312190-5128-4e94-a9d9-5397aa65f739"
   },
   "outputs": [
    {
     "name": "stdout",
     "output_type": "stream",
     "text": [
      "0.9024357147703372\n",
      "              precision    recall  f1-score   support\n",
      "\n",
      "Recuperacion       0.95      0.85      0.90     29478\n",
      "   Defuncion       0.87      0.95      0.91     29478\n",
      "\n",
      "    accuracy                           0.90     58956\n",
      "   macro avg       0.91      0.90      0.90     58956\n",
      "weighted avg       0.91      0.90      0.90     58956\n",
      "\n"
     ]
    }
   ],
   "source": [
    "# Evaluating the model on the test set and printing accuracy and classification report\n",
    "y_pred = random_search.predict(X_test_transformed)\n",
    "target_names = ['Recuperacion', 'Defuncion']\n",
    "print(random_search.score(X_test_transformed, y_test))\n",
    "print(classification_report(y_test, y_pred, target_names=target_names))"
   ]
  },
  {
   "cell_type": "markdown",
   "metadata": {
    "id": "SFM9cm8ZZ3eh"
   },
   "source": [
    "# **Statistical Tests**"
   ]
  },
  {
   "cell_type": "code",
   "execution_count": null,
   "metadata": {
    "id": "NP7OKqlhZ-IH"
   },
   "outputs": [],
   "source": [
    "# MLP model is compared with a Random Guess Classifier\n",
    "# Start neural network\n",
    "network = models.Sequential()\n",
    "# Add fully connected layer with a ReLU activation function\n",
    "network.add(layers.Dense(units=16,\n",
    "                        activation=\"relu\",\n",
    "                        input_shape=(number_of_features,)))\n",
    "# Add fully connected layer with a ReLU activation function\n",
    "network.add(layers.Dense(units=16, activation=\"relu\"))\n",
    "# Add fully connected layer with a softmax activation function\n",
    "network.add(layers.Dense(units=1, activation=\"sigmoid\"))\n",
    "# Compile neural network\n",
    "network.compile(loss=\"binary_crossentropy\", # Cross-entropy\n",
    "                optimizer=\"adam\", # Root Mean Square Propagation\n",
    "                metrics=[\"accuracy\"]) # Accuracy performance metric"
   ]
  },
  {
   "cell_type": "code",
   "execution_count": null,
   "metadata": {
    "colab": {
     "base_uri": "https://localhost:8080/"
    },
    "id": "ZUQb2yW2c0JP",
    "outputId": "84fe4146-050a-42ed-df96-3225dfa1c028"
   },
   "outputs": [
    {
     "data": {
      "text/plain": [
       "<tensorflow.python.keras.callbacks.History at 0x7f67a0189d30>"
      ]
     },
     "execution_count": 21,
     "metadata": {
      "tags": []
     },
     "output_type": "execute_result"
    }
   ],
   "source": [
    "# Training the neural network\n",
    "network.fit(X_train_transformed, y_train, epochs=15, batch_size=100, verbose=0)"
   ]
  },
  {
   "cell_type": "code",
   "execution_count": null,
   "metadata": {
    "id": "WSz-1PlydtOO"
   },
   "outputs": [],
   "source": [
    "# Paired t-test\n",
    "y_test_paired = np.array(y_test)\n",
    "np.random.seed = 0\n",
    "N = 1000\n",
    "sample_size = 30\n",
    "random_classifier_scores = np.zeros(N)\n",
    "mlp_classifier_scores = np.zeros(N)\n",
    "diff = np.zeros(N)\n",
    "\n",
    "# Getting the samples\n",
    "for i in range(N):\n",
    "  sample_indices = np.random.choice(len(X_test_transformed),size=sample_size, replace=False)\n",
    "  sample_i = X_test_transformed[sample_indices]\n",
    "  y_i = y_test_paired[sample_indices]\n",
    "  mlp_classifier_scores[i] = network.evaluate(sample_i, y_i, verbose=0)[1]\n",
    "  # Random Guess Classifier\n",
    "  y_pred_random = []\n",
    "  for j in range(sample_size):\n",
    "    y_pred_random.append(np.random.choice([0,1],p=[0.5, 0.5]))\n",
    "  random_classifier_scores[i] = accuracy_score(y_i, y_pred_random)\n",
    "  diff[i] = mlp_classifier_scores[i] - random_classifier_scores[i]"
   ]
  },
  {
   "cell_type": "code",
   "execution_count": null,
   "metadata": {
    "colab": {
     "base_uri": "https://localhost:8080/",
     "height": 265
    },
    "id": "XMZhmBYbvQIe",
    "outputId": "7f3605e9-09de-4a38-9214-93e678afafaa"
   },
   "outputs": [
    {
     "data": {
      "image/png": "[encoded data removed]",
      "text/plain": [
       "<Figure size 432x288 with 1 Axes>"
      ]
     },
     "metadata": {
      "needs_background": "light",
      "tags": []
     },
     "output_type": "display_data"
    }
   ],
   "source": [
    "# Plotting distributions\n",
    "plt.hist(mlp_classifier_scores, 30)\n",
    "plt.hist(random_classifier_scores, 50)\n",
    "plt.legend(['MLP Classifier', 'Random Classifier'])\n",
    "plt.show()"
   ]
  },
  {
   "cell_type": "code",
   "execution_count": null,
   "metadata": {
    "id": "x04Rp55smfpT"
   },
   "outputs": [],
   "source": [
    "# Sample mean and Sample standard deviation\n",
    "m = np.mean(diff)\n",
    "S = np.std(diff, ddof=1)"
   ]
  },
  {
   "cell_type": "code",
   "execution_count": null,
   "metadata": {
    "id": "11jhTfnjn8uU"
   },
   "outputs": [],
   "source": [
    "# t-statistic and p-value\n",
    "t_statistic = (np.sqrt(N) * m) / S\n",
    "p_value = (1 - t.cdf(t_statistic, N-1))* 2"
   ]
  },
  {
   "cell_type": "code",
   "execution_count": null,
   "metadata": {
    "colab": {
     "base_uri": "https://localhost:8080/"
    },
    "id": "1Cl3tgUjoPIK",
    "outputId": "1b368a5d-4ddf-4f01-883d-a7977ea9ad99"
   },
   "outputs": [
    {
     "data": {
      "text/plain": [
       "Ttest_indResult(statistic=121.34496342302762, pvalue=0.0)"
      ]
     },
     "execution_count": 147,
     "metadata": {
      "tags": []
     },
     "output_type": "execute_result"
    }
   ],
   "source": [
    "# With a p value less than alpha=0.05 then we reject the null hypothesis of equal means\n",
    "ttest_ind(mlp_classifier_scores, random_classifier_scores)"
   ]
  },
  {
   "cell_type": "code",
   "execution_count": null,
   "metadata": {
    "colab": {
     "base_uri": "https://localhost:8080/"
    },
    "id": "XwwluNMBBJfI",
    "outputId": "373afdd0-045e-4ece-c334-a526100b0b4e"
   },
   "outputs": [
    {
     "data": {
      "text/plain": [
       "RandomForestClassifier(bootstrap=True, ccp_alpha=0.0, class_weight=None,\n",
       "                       criterion='gini', max_depth=None, max_features='sqrt',\n",
       "                       max_leaf_nodes=None, max_samples=None,\n",
       "                       min_impurity_decrease=0.0, min_impurity_split=None,\n",
       "                       min_samples_leaf=10, min_samples_split=20,\n",
       "                       min_weight_fraction_leaf=0.0, n_estimators=120,\n",
       "                       n_jobs=-1, oob_score=False, random_state=None, verbose=0,\n",
       "                       warm_start=False)"
      ]
     },
     "execution_count": 95,
     "metadata": {
      "tags": []
     },
     "output_type": "execute_result"
    }
   ],
   "source": [
    "# Random Forest\n",
    "best_parameters = {'n_estimators': 120, 'min_samples_split': 20, 'min_samples_leaf': 10, 'max_features': 'sqrt', 'max_depth': None}\n",
    "random_forest = RandomForestClassifier(n_jobs=-1, **best_parameters)\n",
    "random_forest.fit(X_train_transformed, y_train)"
   ]
  },
  {
   "cell_type": "code",
   "execution_count": null,
   "metadata": {
    "id": "jLUPaBmxsol1"
   },
   "outputs": [],
   "source": [
    "# All vs All\n",
    "def significance_t_test(classifiers, number_of_samples, sample_size, alpha):\n",
    "  X_t_test = np.copy(X_test_transformed)\n",
    "  X_t_test_pca = np.copy(X_test_pca)\n",
    "  y_t_test = np.copy(y_test)\n",
    "  N = number_of_samples\n",
    "    \n",
    "  classifiers_str = dict(zip(combinations([eval(x) for x in classifiers], 2), combinations(classifiers, 2)))\n",
    "  classifiers = [eval(x) for x in classifiers]\n",
    "\n",
    "  clf_scores = {clf: np.zeros(N) for clf in classifiers}\n",
    "  differences = {clfs: np.zeros(N) for clfs in combinations(classifiers, 2)}\n",
    "  results = {classifiers_str[clfs]: None for clfs in combinations(classifiers, 2)}\n",
    "\n",
    "  for i in range(N):\n",
    "    sample_indices = np.random.choice(len(X_t_test),size=sample_size, replace=False)\n",
    "    sample_i = X_t_test[sample_indices]\n",
    "    y_i = y_t_test[sample_indices]\n",
    "\n",
    "    # Testing on the sample\n",
    "    for clf in classifiers:\n",
    "      if clf == network:\n",
    "        clf_scores[clf][i] = clf.evaluate(sample_i, y_i, verbose=0)[1]\n",
    "      elif clf == svm_pca:\n",
    "        sample_i_pca = X_t_test_pca[sample_indices]\n",
    "        clf_scores[clf][i] = clf.score(sample_i_pca, y_i)\n",
    "      else:\n",
    "        clf_scores[clf][i] = clf.score(sample_i, y_i)\n",
    "      \n",
    "    # Removing used examples\n",
    "    X_t_test = np.delete(X_t_test, sample_indices, 0)\n",
    "    X_t_test_pca = np.delete(X_t_test_pca, sample_indices, 0)\n",
    "    y_t_test = np.delete(y_t_test, sample_indices, 0)\n",
    "\n",
    "  for clfs in combinations(classifiers, 2):\n",
    "    differences[clfs] = clf_scores[clfs[0]] - clf_scores[clfs[1]]\n",
    "    m = np.mean(differences[clfs])\n",
    "    S = np.std(differences[clfs], ddof=1)\n",
    "    t_statistic = (np.sqrt(N) * m) / S\n",
    "    p_value = (1 - t.cdf(t_statistic, N-1))* 2\n",
    "\n",
    "    if p_value > alpha:\n",
    "      results[classifiers_str[clfs]] = 'H0 accepted' # H0: Equal means\n",
    "    else:\n",
    "      results[classifiers_str[clfs]] = 'H0 rejected' # H0: Equal means\n",
    "  return differences, results"
   ]
  },
  {
   "cell_type": "code",
   "execution_count": null,
   "metadata": {
    "id": "7vXVPqc1EPWx"
   },
   "outputs": [],
   "source": [
    "# Testing sifnificance difference between classifiers\n",
    "list_of_classifiers = ['network', 'svm_linear', 'svm_pca', 'random_forest']\n",
    "differences, results = significance_t_test(classifiers=list_of_classifiers, number_of_samples=1000, sample_size=30, alpha=0.05)"
   ]
  },
  {
   "cell_type": "code",
   "execution_count": null,
   "metadata": {
    "colab": {
     "base_uri": "https://localhost:8080/"
    },
    "id": "FC0z23Grbs-k",
    "outputId": "ba3de558-d604-4142-d864-b39f1469e0a7"
   },
   "outputs": [
    {
     "data": {
      "text/plain": [
       "{('network', 'random_forest'): 'H0 rejected',\n",
       " ('network', 'svm_linear'): 'H0 rejected',\n",
       " ('network', 'svm_pca'): 'H0 rejected',\n",
       " ('svm_linear', 'random_forest'): 'H0 accepted',\n",
       " ('svm_linear', 'svm_pca'): 'H0 accepted',\n",
       " ('svm_pca', 'random_forest'): 'H0 accepted'}"
      ]
     },
     "execution_count": 248,
     "metadata": {
      "tags": []
     },
     "output_type": "execute_result"
    }
   ],
   "source": [
    "results"
   ]
  }
 ],
 "metadata": {
  "colab": {
   "collapsed_sections": [],
   "name": "COVID_FINAL.ipynb",
   "provenance": []
  },
  "kernelspec": {
   "display_name": "Python 3",
   "language": "python",
   "name": "python3"
  },
  "language_info": {
   "codemirror_mode": {
    "name": "ipython",
    "version": 3
   },
   "file_extension": ".py",
   "mimetype": "text/x-python",
   "name": "python",
   "nbconvert_exporter": "python",
   "pygments_lexer": "ipython3",
   "version": "3.8.3"
  }
 },
 "nbformat": 4,
 "nbformat_minor": 4
}
